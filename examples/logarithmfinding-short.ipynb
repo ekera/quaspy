{
 "cells": [
  {
   "cell_type": "markdown",
   "metadata": {},
   "source": [
    "# Ekerå–Håstad's algorithm for computing short discrete logarithms\n",
    "This notebook exemplifies using [Quaspy](https://github.com/ekera/quaspy) to simulate Ekerå–Håstads algorithm for computing short discrete logarithms [[EH17]](https://doi.org/10.1007/978-3-319-59879-6_20), with improvements and the classical post-processing from [[E20]](https://doi.org/10.1007/s10623-020-00783-2) and [[E23p]](https://doi.org/10.48550/arXiv.2309.01754) when making and not making tradeoffs, respectively.\n",
    "\n",
    "To start off, let us define the MODP-3072 safe-prime group used in IKEv2, see [RFC 3526](https://datatracker.ietf.org/doc/html/rfc3526) and Tab. 25 on p. 133 in App. A of [NIST SP 800-56A Rev. 3](https://doi.org/10.6028/NIST.SP.800-56Ar3)."
   ]
  },
  {
   "cell_type": "code",
   "execution_count": 1,
   "metadata": {},
   "outputs": [],
   "source": [
    "!pip3 install -q --pre quaspy # Make sure that quaspy is installed."
   ]
  },
  {
   "cell_type": "code",
   "execution_count": 2,
   "metadata": {},
   "outputs": [],
   "source": [
    "from quaspy.math.groups import IntegerModRingMulSubgroupElement;\n",
    "\n",
    "# Define the safe prime.\n",
    "p = 5809605995369958062791915965639201402176612226902900533702900882779736177890990861472094774477339581147373410185646378328043729800750470098210924487866935059164371588168047540943981644516632755067501626434556398193186628990071248660819361205119793693985433297036118232914410171876807536457391277857011849897410207519105333355801121109356897459426271845471397952675959440793493071628394122780510124618488232602464649876850458861245784240929258426287699705312584509625419513463605155428017165714465363094021609290561084025893662561222573202082865797821865270991145082200656978177192827024538990239969175546190770645685893438011714430426409338676314743571154537142031573004276428701433036381801705308659830751190352946025482059931306571004727362479688415574702596946457770284148435989129632853918392117997472632693078113129886487399347796982772784615865232621289656944284216824611318709764535152507354116344703769998514148343807;\n",
    "\n",
    "# Define the generator.\n",
    "g = IntegerModRingMulSubgroupElement(2, p);\n",
    "\n",
    "# Define the order of the generator.\n",
    "r = (p - 1) // 2;"
   ]
  },
  {
   "cell_type": "markdown",
   "metadata": {},
   "source": [
    "For this group, the exponent $d$ is selected uniformly at random from $[0, 2^{256}) \\cap \\mathbb Z$ (when using the NIST model to estimate the strength level of the group).\n",
    "To select $d$, we use the [<code>sample_integer(B)</code>](../docs/math/random/sample_integer.md) convenience function provided by [Quaspy](https://github.com/ekera/quaspy)."
   ]
  },
  {
   "cell_type": "code",
   "execution_count": 3,
   "metadata": {},
   "outputs": [
    {
     "name": "stdout",
     "output_type": "stream",
     "text": [
      "Sampled d = 14867624666158446636666179337991376830611190433112693090937780483120623068086\n",
      "\n",
      "Computed x = 2761151264703387946760778801819084685395222974920384992192142481813571053084366119339471802143204943881202648598826082252593812435131325299844848445342271902631795905322627095016089417014451581803834669690498996388713442506079603920264926815265678761929643249274516397985947613792307337136107164191404794614821955759135337276926842386498207238813857501642796776383878368937426403954336025722545650779379108408886798731609976576051962377192836743593071095912233260088736250496938078527111708880309037998467692799047014097261798528991674286585378858002869099117488298967810967605454080389524752931257736191797746428097890820078790446179228770703098424652547845356923587106492428600915133599346185722795063335364055945346118512352031823859929234953491086591884647000285695734910483384823847143400732179739431270594343839481758673492602860854515779974935729221320614599873876559279701558158598993209361820149240933563182672863505 (mod 5809605995369958062791915965639201402176612226902900533702900882779736177890990861472094774477339581147373410185646378328043729800750470098210924487866935059164371588168047540943981644516632755067501626434556398193186628990071248660819361205119793693985433297036118232914410171876807536457391277857011849897410207519105333355801121109356897459426271845471397952675959440793493071628394122780510124618488232602464649876850458861245784240929258426287699705312584509625419513463605155428017165714465363094021609290561084025893662561222573202082865797821865270991145082200656978177192827024538990239969175546190770645685893438011714430426409338676314743571154537142031573004276428701433036381801705308659830751190352946025482059931306571004727362479688415574702596946457770284148435989129632853918392117997472632693078113129886487399347796982772784615865232621289656944284216824611318709764535152507354116344703769998514148343807)\n"
     ]
    }
   ],
   "source": [
    "from quaspy.math.random import sample_integer;\n",
    "\n",
    "# Sample d.\n",
    "m = 256;\n",
    "d = sample_integer(2 ** m);\n",
    "\n",
    "print(\"Sampled d =\", d);\n",
    "\n",
    "# Compute x.\n",
    "x = g ** d;\n",
    "\n",
    "print(\"\\nComputed x =\", x);"
   ]
  },
  {
   "cell_type": "markdown",
   "metadata": {},
   "source": [
    "## 1. Solving for the logarithm $d$ in a single run\n",
    "To start off, let us first consider the setting where our goal is to solve for the discrete logarithm $d$ in a single run of the quantum part of Ekerå-Håstad's algorithm [[EH17]](https://doi.org/10.1007/978-3-319-59879-6_20)."
   ]
  },
  {
   "cell_type": "markdown",
   "metadata": {},
   "source": [
    "### 1.1. Sampling a frequency pair $(j, k)$\n",
    "[Quaspy](https://github.com/ekera/quaspy) provides a function [<code>sample_j_k_given_d_r_tau(d, r, m, ell, tau, ..)</code>](../docs/logarithmfinding/short/sampling/sample_j_k_given_d_r_tau.md) for simulating the quantum part of Ekerå–Håstad's algorithm exactly (up to arbitrary precision) for a given logarithm $d$, order $r$ (that need not be specified), and parameters $m$, $\\ell$ and $\\tau$, where $m$ is an upper bound on the bit length of $d$, and where $\\tau$ specifies the search interval when sampling and when solving in the classical post-processing from [[E23p]](https://doi.org/10.48550/arXiv.2309.01754).\n",
    "For further details, see [[E23p]](https://doi.org/10.48550/arXiv.2309.01754).\n",
    "\n",
    "Below, we use said function to simulate running the algorithm for $d$ and $r$ with control registers of length $m + \\ell$ qubits and $\\ell$ qubits respectively.\n",
    "More specifically, for $g$ a generator of unknown order $r \\ge 2^{m+\\ell} + (2^\\ell - 1)d$ and $x = g^d$, we simulate inducing the state\n",
    "\n",
    "$$\\frac{1}{2^{m + 2 \\ell}}\n",
    "\\sum_{a, \\, j \\, = \\, 0}^{2^{m+\\ell} - 1}\n",
    "\\sum_{b, \\, k \\, = \\, 0}^{2^{\\ell} - 1}\n",
    "\\mathrm{exp}\n",
    "\\left(\n",
    "  \\frac{2 \\pi \\mathrm{i}}{2^{m + \\ell}} (aj + 2^m bk)\n",
    "\\right)\n",
    "|\\, j, k, g^a x^{-b} \\,\\rangle$$\n",
    "\n",
    "and reading out the first two control registers.\n",
    "This yields a frequency pair $(j, k)$ sampled from the probability distribution induced by the quantum part of Ekerå–Håstad's algorithm:"
   ]
  },
  {
   "cell_type": "code",
   "execution_count": 4,
   "metadata": {},
   "outputs": [
    {
     "name": "stdout",
     "output_type": "stream",
     "text": [
      "Sampled j = 11537636737092939085202964713643412808303836285641461871897267188321025803643217469817969474479357606426998814070910890931223119606001144958522487371210079\n",
      "Sampled k = 29246234808862741736430286986658896390178351944930753053991265061031474065059\n"
     ]
    }
   ],
   "source": [
    "from quaspy.logarithmfinding.short.sampling import sample_j_k_given_d_r_tau;\n",
    "\n",
    "l = m;\n",
    "tau = 27;\n",
    "\n",
    "[j, k] = sample_j_k_given_d_r_tau(d, r, m, l, tau);\n",
    "\n",
    "print(\"Sampled j =\", j);\n",
    "print(\"Sampled k =\", k);"
   ]
  },
  {
   "cell_type": "markdown",
   "metadata": {},
   "source": [
    "As explained in [[E23p]](https://doi.org/10.48550/arXiv.2309.01754), $\\sim \\ell$ bits of information on $d$ is computed in each run of the quantum part of Ekerå–Håstad's algorithm. To solve in a single run, we therefore select $\\ell = m$ above.\n",
    "\n",
    "Note that the analysis in [[EH17]](https://doi.org/10.1007/978-3-319-59879-6_20), [[E20]](https://doi.org/10.1007/s10623-020-00783-2) and [[E23p]](https://doi.org/10.48550/arXiv.2309.01754) furthermore requires that $r \\ge 2^{m+\\ell} + (2^\\ell - 1)d$.\n",
    "For the safe-prime group that we consider in this example, this requirement is met when picking $\\ell = m$.\n",
    "For other groups, this is not necessarily the case.\n",
    "\n",
    "Note also that the [<code>sample_j_k_given_d_r_tau(d, r, m, ell, tau, ..)</code>](../docs/logarithmfinding/short/sampling/sample_j_k_given_d_r_tau.md) function checks that $r \\ge 2^{m+\\ell} + (2^\\ell - 1)d$ when $r$ is passed to the function. This is the only reason for why $r$ is passed to said function."
   ]
  },
  {
   "cell_type": "markdown",
   "metadata": {},
   "source": [
    "### 1.2. Solving the frequency pair $(j, k)$ and $g$ and $x$ for $d$\n",
    "We now proceed to solve the frequency pair $(j, k)$ for the logarithm $d$.\n",
    "\n",
    "To this end, we use the [<code>solve_j_k_for_d(j, k, m, l, g, x, tau, t, ..)</code>](../docs/logarithmfinding/short/postprocessing/solve_j_k_for_d.md) function provided by [Quaspy](https://github.com/ekera/quaspy). \n",
    "It solves $(j, k)$ for $d$ by using the lattice-based post-processing from [[E23p]](https://doi.org/10.48550/arXiv.2309.01754).\n",
    "\n",
    "The parameters $\\tau$ and $t$ control the search space when solving $(j, k)$ for $d$.\n",
    "Below, we gradually grow the search space, from $(\\tau, t) = (4, 2)$ up to $(\\tau, t) = (27, 2)$ for which the success probability is at least $1 - 10^{-8}$, and for which at most $2^{18.6}$ group operations have to be performed in the classical post-processing.\n",
    "For further details, see [[E23p]](https://doi.org/10.48550/arXiv.2309.01754) (in particular, see Tab. 1).\n",
    "\n",
    "Note that $\\tau = 27$ for the last combination which explains why we specified $\\tau = 27$ when sampling in the previous section."
   ]
  },
  {
   "cell_type": "code",
   "execution_count": 5,
   "metadata": {},
   "outputs": [
    {
     "name": "stdout",
     "output_type": "stream",
     "text": [
      "Recovered d = 14867624666158446636666179337991376830611190433112693090937780483120623068086\n",
      "\n",
      "[ OK ] Successfully recovered d.\n"
     ]
    }
   ],
   "source": [
    "from quaspy.logarithmfinding.short.postprocessing import solve_j_k_for_d;\n",
    "\n",
    "for [tau, t] in [[4, 2], [7, 2], [14, 2], [17, 2], [27, 2]]:\n",
    "  recovered_d = solve_j_k_for_d(j, k, m, l, g, x, tau = tau, t = t);\n",
    "  if recovered_d != None:\n",
    "    break;\n",
    "\n",
    "if recovered_d == d:\n",
    "  print(\"Recovered d =\", d);\n",
    "\n",
    "  print(\"\\n[ OK ] Successfully recovered d.\");\n",
    "else:\n",
    "  print(\"[FAIL] Failed to recover d.\");"
   ]
  },
  {
   "cell_type": "markdown",
   "metadata": {},
   "source": [
    "## 2. Making tradeoffs and solving for $d$ in multiple runs\n",
    "Let us now consider the case where we make tradeoffs by picking $\\ell \\approx m/s$ for $s$ some tradeoff factor.\n",
    "\n",
    "As explained in [[E20]](https://doi.org/10.1007/s10623-020-00783-2), each run of the quantum part of Ekerå–Håstad's algorithm yields $\\sim \\ell$ bits of information on the logarithm $d$.\n",
    "Hence, we expect to have to perform at least $s$ runs to solve for $d$ efficiently and with high probability of success in the classical post-processing.\n",
    "\n",
    "According to the estimates in [[E20]](https://doi.org/10.1007/s10623-020-00783-2) (see Tab. 2) which were computed with the [Qunundrum](https://github.com/ekera/qunundrum) suite of MPI programs, when $m = 256$, $s = 8$ and $\\ell = \\lceil m / s \\rceil$, we need to make no more than $n = 11$ runs to solve efficiently in the classical post-processing with $\\ge 99\\%$ success probability without enumerating the lattice.\n",
    "In the below example, we use this specific parameterization."
   ]
  },
  {
   "cell_type": "markdown",
   "metadata": {},
   "source": [
    "### 2.1. Sampling $n$ frequency pairs $((j_1, k_1), \\, \\ldots, \\, (j_n, k_n))$\n",
    "To start off, in analogy with Sect. 1.1 above, we sample $n$ frequency pairs $((j_1, k_1), \\, \\ldots, \\, (j_n, k_n))$ from the distribution induced by the quantum part of Ekerå–Håstad's algorithm.\n",
    "To this end, we use the [<code>sample_j_k_given_d_r(d, r, m, ell, ..)</code>](../docs/logarithmfinding/short/sampling/sample_j_k_given_d_r.md) function provided by [Quaspy](https://github.com/ekera/quaspy).\n",
    "\n",
    "Note that the [<code>sample_j_k_given_d_r(d, r, m, ell, ..)</code>](../docs/logarithmfinding/short/sampling/sample_j_k_given_d_r.md) function is equivalent to the [<code>sample_j_k_given_d_r_tau(d, r, m, ell, tau, ..)</code>](../docs/logarithmfinding/short/sampling/sample_j_k_given_d_r_tau.md) function used above in Sect. 1.1, expect that it selects the search interval in a more straightforward manner that is not specifically adapted to the post-processing from [[E23p]](https://doi.org/10.48550/arXiv.2309.01754).\n",
    "(And in what follows below, we will use the post-processing from [[E20]](https://doi.org/10.1007/s10623-020-00783-2), so it makes sense to call [<code>sample_j_k_given_d_r(d, r, m, ell, ..)</code>](../docs/logarithmfinding/short/sampling/sample_j_k_given_d_r.md) in this step to sample the frequency pairs.)"
   ]
  },
  {
   "cell_type": "code",
   "execution_count": 6,
   "metadata": {},
   "outputs": [
    {
     "name": "stdout",
     "output_type": "stream",
     "text": [
      "Sampled pairs [j, k] = [[49021096921192201463681429065967228089151692407369231665560475663624004115552865438031, 2469361454], [106130186551029264589224290693095770647827665035310062613166290891073007907083547655337, 394074144], [152871282366174042836066719014012820033220242245136590336961806844018589356017478760476, 4152781648], [178108523135547768352938472840044308618395271190623697048085769867499301694822481798303, 3072724253], [167214375564563082293855330351567661302287329029280597885451216920203264041163256654432, 2947219498], [296950654069873592330121648948838739294729409516369435435726912367673757751030072575584, 4135104007], [70152138809085613449764007558598433610517478751068727846051070951573369447522398804899, 1385824607], [157608244387551874059472611710581613293092116578498127241236437174612174587777757042084, 3564079824], [219245331240923438729306069137466145912033542376902853856805409134248635158937046439182, 3916868383], [453886153471626137315329744285421716793526320645489152307466657108787015047027406730077, 2764942892], [180014850346247617113322834228262210574529214392452529788273592491699749860902441952028, 242353889]]\n"
     ]
    }
   ],
   "source": [
    "from quaspy.logarithmfinding.short.sampling import sample_j_k_given_d_r;\n",
    "\n",
    "from math import ceil;\n",
    "\n",
    "s = 8;\n",
    "l = ceil(m / s);\n",
    "n = 11;\n",
    "\n",
    "j_k_list = [sample_j_k_given_d_r(d, r, m, l, timeout = 30) for _ in range(n)];\n",
    "\n",
    "print(\"Sampled pairs [j, k] =\", j_k_list);"
   ]
  },
  {
   "cell_type": "markdown",
   "metadata": {},
   "source": [
    "### 2.2. Solving the $n$ frequency pairs $((j_1, k_1), \\, \\ldots, \\, (j_n, k_n))$ and $g$ and $x$ for $d$\n",
    "We now proceed to solve the $n$ frequency pairs $((j_1, k_1), \\, \\ldots, \\, (j_n, k_n))$ for the logarithm $d$.\n",
    "\n",
    "To this end, we use the [<code>solve_multiple_j_k_for_d(j_k_list, m, l, g, x, ..)</code>](../docs/logarithmfinding/short/postprocessing/solve_multiple_j_k_for_d.md) function provided by [Quaspy](https://github.com/ekera/quaspy).\n",
    "It jointly solves  $((j_1, k_1), \\, \\ldots, \\, (j_n, k_n))$ for $d$ by using the lattice-based post-processing from [[E20]](https://doi.org/10.1007/s10623-020-00783-2)."
   ]
  },
  {
   "cell_type": "code",
   "execution_count": 7,
   "metadata": {},
   "outputs": [
    {
     "name": "stdout",
     "output_type": "stream",
     "text": [
      "Recovered d = 14867624666158446636666179337991376830611190433112693090937780483120623068086\n",
      "\n",
      "[ OK ] Successfully recovered d.\n"
     ]
    }
   ],
   "source": [
    "from quaspy.logarithmfinding.short.postprocessing import solve_multiple_j_k_for_d;\n",
    "\n",
    "recovered_d = solve_multiple_j_k_for_d(j_k_list,\n",
    "                                       m,\n",
    "                                       l,\n",
    "                                       g,\n",
    "                                       x,\n",
    "                                       enumerate = False,\n",
    "                                       timeout = 30);\n",
    "\n",
    "if recovered_d == d:\n",
    "  print(\"Recovered d =\", d);\n",
    "\n",
    "  print(\"\\n[ OK ] Successfully recovered d.\");\n",
    "else:\n",
    "  print(\"[FAIL] Failed to recover d.\");"
   ]
  }
 ],
 "metadata": {
  "kernelspec": {
   "display_name": "Python 3",
   "language": "python",
   "name": "python3"
  },
  "language_info": {
   "codemirror_mode": {
    "name": "ipython",
    "version": 3
   },
   "file_extension": ".py",
   "mimetype": "text/x-python",
   "name": "python",
   "nbconvert_exporter": "python",
   "pygments_lexer": "ipython3",
   "version": "3.13.4"
  }
 },
 "nbformat": 4,
 "nbformat_minor": 4
}
