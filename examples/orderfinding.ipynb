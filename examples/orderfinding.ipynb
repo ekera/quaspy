{
 "cells": [
  {
   "cell_type": "markdown",
   "metadata": {},
   "source": [
    "# Shor's order-finding algorithm\n",
    "This notebook exemplifies using [Quaspy](https://github.com/ekera/quaspy) to simulate Shor's order-finding algorithm [[Shor94]](https://doi.org/10.1109/SFCS.1994.365700), modified as in [[E24]](https://doi.org/10.1145/3655026), and with the classical post-processing from [[E24]](https://doi.org/10.1145/3655026).\n",
    "It furthermore exemplifies using [Quaspy](https://github.com/ekera/quaspy) to simulate Seifert's variation [[Seifert01]](https://doi.org/10.1007/3-540-45353-9_24) of Shor's order-finding algorithm [[Shor94]](https://doi.org/10.1109/SFCS.1994.365700), as described in [[E24t]](https://diva-portal.org/smash/get/diva2:1902626/FULLTEXT01.pdf) (see Sect. 5.4) and [[E21]](https://doi.org/10.1515/jmc-2020-0006) (see App. A), and with the classical post-processing from [[E24t]](https://diva-portal.org/smash/get/diva2:1902626/FULLTEXT01.pdf) (see Sect. 5.4) and [[E21]](https://doi.org/10.1515/jmc-2020-0006) (see App. A) with supporting functions from [[E24]](https://doi.org/10.1145/3655026).\n",
    "\n",
    "To start off, let us pick an $m$-bit order $r$ uniformly at random from the set of all $m$-bit integers.\n",
    "To this end, we use the [<code>sample_l_bit_integer(l)</code>](../docs/math/random/sample_l_bit_integer.md) convenience function provided by [Quaspy](https://github.com/ekera/quaspy).\n",
    "We then use the [SimulatedCyclicGroupElement](../docs/math/groups/SimulatedCyclicGroupElement.md) class provided by [Quaspy](https://github.com/ekera/quaspy) to define a group element $g$ of order $r$."
   ]
  },
  {
   "cell_type": "code",
   "execution_count": 1,
   "metadata": {},
   "outputs": [],
   "source": [
    "!pip3 install -q quaspy # Make sure that quaspy is installed."
   ]
  },
  {
   "cell_type": "code",
   "execution_count": 2,
   "metadata": {},
   "outputs": [
    {
     "name": "stdout",
     "output_type": "stream",
     "text": [
      "Sampled r = 131594841169087245885790758246089422061948879052180031265533163939184466531826374047249324097036644162632131124321529677437673729496087845655613048388683302644957056342791826987364296180668671248217191072822797814278429027392341280616507749774237206697340161365861616561794070658913963075325317958216733943409\n"
     ]
    }
   ],
   "source": [
    "from quaspy.math.random import sample_l_bit_integer;\n",
    "from quaspy.math.groups import SimulatedCyclicGroupElement;\n",
    "\n",
    "m = 1024;\n",
    "r = sample_l_bit_integer(m);\n",
    "\n",
    "print(\"Sampled r =\", r);\n",
    "\n",
    "g = SimulatedCyclicGroupElement(r);"
   ]
  },
  {
   "cell_type": "markdown",
   "metadata": {},
   "source": [
    "## 1. Solving for the order $r$ in a single run"
   ]
  },
  {
   "cell_type": "markdown",
   "metadata": {},
   "source": [
    "### 1.1. Sampling a frequency $j$\n",
    "[Quaspy](https://github.com/ekera/quaspy) provides a function [<code>sample_j_given_r(r, m, l, ..)</code>](../docs/orderfinding/general/sampling/sample_j_given_r.md) for simulating Shor's order-finding algorithm (and Seifert's variation thereof) exactly for a given order $r$.\n",
    "For further details, see [[E24t]](https://kth.diva-portal.org/smash/get/diva2:1902626/FULLTEXT01.pdf) (see Sects. 5.3.5 and 5.4.3).\n",
    "\n",
    "Below, we use said function to simulate running the algorithm for $r$ with a control register of $m + \\ell$ qubits, where $m$ is an upper bound on the bit length of $r$, and $\\ell$ is a positive integer.\n",
    "\n",
    "More specifically, for $g$ a generator of order $r < 2^m$, said function simulates inducing the state\n",
    "\n",
    "$$\\frac{1}{2^{m + \\ell}}\n",
    "\\sum_{a, \\, j \\, = \\, 0}^{2^{m+\\ell} - 1}\n",
    "\\mathrm{exp}\n",
    "\\left(\n",
    "  \\frac{2 \\pi \\mathrm{i}}{2^{m + \\ell}} aj\n",
    "\\right)\n",
    "|\\, j, g^a \\,\\rangle$$\n",
    "\n",
    "and reading out the first control register.\n",
    "This yields a frequency $j$ sampled from the probability distribution induced by the quantum part of the order-finding algorithm:"
   ]
  },
  {
   "cell_type": "code",
   "execution_count": 3,
   "metadata": {},
   "outputs": [
    {
     "name": "stdout",
     "output_type": "stream",
     "text": [
      "Sampled j = 26567545896586009355811451821647630833833997889255733411282712512882270830975851274472504392189351467119866868893207042485733105103764689564970275268126068059033674127471172365534019396844787561692094772041061218361704526694397709763170631452988481439691873096440089779892277146507738391333291754186666640467088756147216294574590123367637008143494288154746059831338805624228576471593217894857763274776948856693537613318354139685623655443330082246258944379829154465918578587663116189024945971515858215561848169301618082780084785198594385798325898934032729718541226593962846700498794932189102725074389397063556853628472\n"
     ]
    }
   ],
   "source": [
    "from quaspy.orderfinding.general.sampling import sample_j_given_r;\n",
    "\n",
    "l = m; # Ensures that r^2 < 2^(m + l) as r < 2^m.\n",
    "\n",
    "j = sample_j_given_r(r, m, l, timeout = 30);\n",
    "\n",
    "print(\"Sampled j =\", j);"
   ]
  },
  {
   "cell_type": "markdown",
   "metadata": {},
   "source": [
    "### 1.2. Solving the frequency $j$ and $g$ for $r$\n",
    "\n",
    "We may then proceed to solve $j$ and $g$ for the order $r$ by calling the [<code>solve_j_for_r(j, m, l, g, ..)</code>](../docs/orderfinding/general/postprocessing/ekera/solve_j_for_r.md) function provided by [Quaspy](https://github.com/ekera/quaspy).\n",
    "\n",
    "By default this function uses the lattice-based post-processing from [[E24]](https://doi.org/10.1145/3655026) without enumerating the lattice, in combination with searching offsets in $j$, and reconstructing the missing part of the order when smooth, and so forth.\n",
    "For the full details and a lower bound on the success probability, see [[E24]](https://doi.org/10.1145/3655026).\n",
    "Note that if we accept to enumerate the lattice, we can decrease $\\ell$, again see [[E24]](https://doi.org/10.1145/3655026) for the full details.\n",
    "\n",
    "This yields the order $r$: "
   ]
  },
  {
   "cell_type": "code",
   "execution_count": 4,
   "metadata": {},
   "outputs": [
    {
     "name": "stdout",
     "output_type": "stream",
     "text": [
      "Solving for r yielded: 131594841169087245885790758246089422061948879052180031265533163939184466531826374047249324097036644162632131124321529677437673729496087845655613048388683302644957056342791826987364296180668671248217191072822797814278429027392341280616507749774237206697340161365861616561794070658913963075325317958216733943409\n",
      "\n",
      "[ OK ] The order r was successfully recovered.\n"
     ]
    }
   ],
   "source": [
    "from quaspy.orderfinding.general.postprocessing.ekera import solve_j_for_r;\n",
    "\n",
    "result = solve_j_for_r(j, m, l, g);\n",
    "\n",
    "print(\"Solving for r yielded:\", result);\n",
    "\n",
    "if result == r:\n",
    "  print(\"\\n[ OK ] The order r was successfully recovered.\");\n",
    "else:\n",
    "  print(\"\\n[FAIL] The order r was not recovered.\");"
   ]
  },
  {
   "cell_type": "markdown",
   "metadata": {},
   "source": [
    "## 2. Making tradeoffs and solving for $r$ in multiple runs\n",
    "Let us now consider Seifert's variation [[Seifert01]](https://doi.org/10.1007/3-540-45353-9_24) of Shor's order-finding algorithm [[Shor94]](https://doi.org/10.1109/SFCS.1994.365700), as described in [[E24t]](https://diva-portal.org/smash/get/diva2:1902626/FULLTEXT01.pdf) (see Sect. 5.4) and [[E21]](https://doi.org/10.1515/jmc-2020-0006) (see App. A), where the idea is to make tradeoffs by picking $\\ell \\approx m/s$ for $s$ some tradeoff factor instead of picking $\\ell \\sim m$.\n",
    "\n",
    "As explained in [[E24t]](https://diva-portal.org/smash/get/diva2:1902626/FULLTEXT01.pdf) (see Sect. 5.4) and [[E21]](https://doi.org/10.1515/jmc-2020-0006) (see App. A), each run of the quantum part of the algorithm yields at least $\\sim \\ell$ bits of information on the order $r$.\n",
    "Hence, we expect to need approximately $s$ runs to solve for $r$ efficiently and with high probability of success in the classical post-processing.\n",
    "\n",
    "According to the estimates in [[E21]](https://doi.org/10.1515/jmc-2020-0006) (see Tabs. A1–A2) which were computed with the [Qunundrum](https://github.com/ekera/qunundrum) suite of MPI programs, when $m = 1024$, $s = 8$ and $\\ell = \\lceil m / s \\rceil$, we need to make no more than $n = 9$ runs to solve efficiently in the classical post-processing with $\\ge 99\\%$ success probability without enumerating the lattice.\n",
    "This when using the lattice-based post-processing from [[E24t]](https://diva-portal.org/smash/get/diva2:1902626/FULLTEXT01.pdf) (see Sect. 5.4) and [[E21]](https://doi.org/10.1515/jmc-2020-0006) (see App. A) with supporting functions from [[E24]](https://doi.org/10.1145/3655026).\n",
    "In the below example, we use this specific parameterization."
   ]
  },
  {
   "cell_type": "markdown",
   "metadata": {},
   "source": [
    "### 2.1. Sampling $n$ frequencies $(j_1, \\, \\ldots, \\, j_n)$\n",
    "To start off, we proceed in analogy with Sect. 1.1 above to sample $n = 9$ frequencies $(j_1, \\, \\ldots, \\, j_n)$ from the distribution induced by the quantum part of the algorithm.\n",
    "To this end, we use the [<code>sample_j_given_r(r, m, l, ..)</code>](../docs/orderfinding/general/sampling/sample_j_given_r.md) function provided by [Quaspy](https://github.com/ekera/quaspy)."
   ]
  },
  {
   "cell_type": "code",
   "execution_count": 5,
   "metadata": {},
   "outputs": [
    {
     "name": "stdout",
     "output_type": "stream",
     "text": [
      "Sampled j = [14876088871139495494786621584206336889218613329728092432077113431101975651172211170547817022459559362108061632633815583098024940955645704213746774664394208742813854328250565895054876706068828765141657764334441081762352950933497487382658751133804375748206003037895051197236996038170599199893286868529158270183960391877479521898284244400207978461657, 39059570833644969979972426180565297276745799493021272147930108343014679465326001402106764252263649680939702033108230825125921033876723906206494621189827967834505824238742238595549593344306877351746660003952723873366801129265148410198053519996305858161052467964411159413219300743357860223571069054851459787258530650465294444211297612820241273225965, 16572785702638564000915226848681411309128520100628112608958869190260224851810955548034698182782705997321872420176466946767710951503550647318533496416396359971598821202852905919553093993500617773669348660915455639335905511476514485995113159465196096110805203767491860943140131119742476345072850650561595849043189913239035666608562886373465417058548, 26186432038987026241300913759396563452630872028940301172273030874842624611538298862948622037666099094375516512588739105885685891228918561047396620673595964289199664083580012218704809654986479818488328745853959827332428902276046798892563042409336650257940550454292313094524784787335434358970781396752239965056642719360731754666411489156305869724849, 33899469655861818559273351888506318326146455154155643669072714973307068133854586589326867673627429152663357941481214172185181129799902401854862369558745073191687839486460040996158259943259754086947232842260509580629417611621483392977146469485898832840024847435599576340787148301311492418094008729637743972357990772751104545437584226044549515649115, 31860284643579646594651651636388058935500821728991843981929679560814244027836284579348609550206487212466849083247220072437575568069876722489445956611836136947567355629642645171129172544934049996121216388410343482145520924067857716855657611828824595216300720950134138165883419213161675865686574742677196064118635734451632813773083650333120886321132, 39570893094188093087605517682192098730009147357017728933729937175056592998163632175288260597351681759194678591031481519651049872409717172781824037395481248646250384873251579298320589563241426449352333688421335128585935680025173250211872300269332950179107035549010246688855822151510472339523836280461414163386115818629611896551233131236320030629433, 5962854086776132730981412854861355121824411013469987357818950807959274681480837322078747985408683186968304950798368836122863017879757538134964974563553726003513735753630523479412437228605357829772113004727821102889200596334182688347247097142448075749228010286383472079488770275496007292937454543644426266034973136277235032354417783726596980494740, 23188080988189386697658562524969069718204490421225964002361316975547282082304265573511958352557305631581246831594933725110288959781661557635921936501512670737561258749908942482590051713012121888792004556564478088536827900523814835978831675424169247701997521974888188572635222498964240950236385748704752938919634296463548702979479288301281858661083]\n"
     ]
    }
   ],
   "source": [
    "from quaspy.orderfinding.general.sampling import sample_j_given_r;\n",
    "\n",
    "from math import ceil;\n",
    "\n",
    "s = 8;\n",
    "l = ceil(m / s);\n",
    "n = 9;\n",
    "\n",
    "j_list = [sample_j_given_r(r, m, l, timeout = 30) for _ in range(n)];\n",
    "\n",
    "print(\"Sampled j =\", j_list);"
   ]
  },
  {
   "cell_type": "markdown",
   "metadata": {},
   "source": [
    "### 2.2. Solving the $n$ frequencies $(j_1, \\, \\ldots, \\, j_n)$ and $g$ for $r$\n",
    "We may then proceed to solve the $n$ frequencies $(j_1, \\, \\ldots, \\, j_n)$ and $g$ for the order $r$.\n",
    "\n",
    "To this end, we use the [<code>solve_multiple_j_for_r(j_list, m, l, g, ..)</code>](../docs/logarithmfinding/short/postprocessing/solve_multiple_j_k_for_d.md) function provided by [Quaspy](https://github.com/ekera/quaspy). It jointly solves  $(j_1, \\, \\ldots, \\, j_n)$ for $r$ by using the lattice-based post-processing from [[E24t]](https://diva-portal.org/smash/get/diva2:1902626/FULLTEXT01.pdf) (see Sect. 5.4) and [[E21]](https://doi.org/10.1515/jmc-2020-0006) (see App. A) with supporting functions from [[E24]](https://doi.org/10.1145/3655026)."
   ]
  },
  {
   "cell_type": "code",
   "execution_count": 6,
   "metadata": {},
   "outputs": [
    {
     "name": "stdout",
     "output_type": "stream",
     "text": [
      "Recovered r = 131594841169087245885790758246089422061948879052180031265533163939184466531826374047249324097036644162632131124321529677437673729496087845655613048388683302644957056342791826987364296180668671248217191072822797814278429027392341280616507749774237206697340161365861616561794070658913963075325317958216733943409\n",
      "\n",
      "[ OK ] Successfully recovered r.\n"
     ]
    }
   ],
   "source": [
    "from quaspy.orderfinding.general.postprocessing.ekera import solve_multiple_j_for_r;\n",
    "\n",
    "recovered_r = solve_multiple_j_for_r(j_list,\n",
    "                                     m,\n",
    "                                     l,\n",
    "                                     g,\n",
    "                                     enumerate = False,\n",
    "                                     timeout = 30);\n",
    "\n",
    "if (recovered_r == r):\n",
    "  print(\"Recovered r =\", r);\n",
    "\n",
    "  print(\"\\n[ OK ] Successfully recovered r.\");\n",
    "else:\n",
    "  print(\"[FAIL] Failed to recover r.\");"
   ]
  }
 ],
 "metadata": {
  "kernelspec": {
   "display_name": "Python 3",
   "language": "python",
   "name": "python3"
  },
  "language_info": {
   "codemirror_mode": {
    "name": "ipython",
    "version": 3
   },
   "file_extension": ".py",
   "mimetype": "text/x-python",
   "name": "python",
   "nbconvert_exporter": "python",
   "pygments_lexer": "ipython3",
   "version": "3.13.4"
  }
 },
 "nbformat": 4,
 "nbformat_minor": 4
}
