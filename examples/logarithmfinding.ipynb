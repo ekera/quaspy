{
 "cells": [
  {
   "cell_type": "markdown",
   "metadata": {},
   "source": [
    "# Shor's algorithm for computing discrete logarithms\n",
    "This notebook exemplifies using [Quaspy](https://github.com/ekera/quaspy) to simulate Shor's algorithm for computing general discrete logarithms [[Shor94]](https://doi.org/10.1109/SFCS.1994.365700), modified as in [[E19p]](https://doi.org/10.48550/arXiv.1905.09084), and with the classical post-processing in [[E19p]](https://doi.org/10.48550/arXiv.1905.09084).\n",
    "\n",
    "To start off, let us define the P-384 curve $E$ and associated generator $g$ of order $r$ as specified in [NIST SP 800-186](https://doi.org/10.6028/NIST.SP.800-186)."
   ]
  },
  {
   "cell_type": "code",
   "execution_count": null,
   "metadata": {},
   "outputs": [],
   "source": [
    "!pip3 install -q quaspy # Make sure that quaspy is installed."
   ]
  },
  {
   "cell_type": "code",
   "execution_count": 1,
   "metadata": {},
   "outputs": [],
   "source": [
    "from quaspy.math.groups import ShortWeierstrassCurveOverPrimeField;\n",
    "from quaspy.math.groups import PointOnShortWeierstrassCurveOverPrimeField;\n",
    "\n",
    "# Define the elliptic curve.\n",
    "p = 39402006196394479212279040100143613805079739270465446667948293404245721771496870329047266088258938001861606973112319;\n",
    "\n",
    "a = -3;\n",
    "b = 27580193559959705877849011840389048093056905856361568521428707301988689241309860865136260764883745107765439761230575;\n",
    "\n",
    "E = ShortWeierstrassCurveOverPrimeField(a, b, p);\n",
    "\n",
    "# Define the generator.\n",
    "g_x = 26247035095799689268623156744566981891852923491109213387815615900925518854738050089022388053975719786650872476732087;\n",
    "g_y = 8325710961489029985546751289520108179287853048861315594709205902480503199884419224438643760392947333078086511627871;\n",
    "\n",
    "g = PointOnShortWeierstrassCurveOverPrimeField(g_x, g_y, E);\n",
    "\n",
    "# Define the order of the generator.\n",
    "r = 39402006196394479212279040100143613805079739270465446667946905279627659399113263569398956308152294913554433653942643;"
   ]
  },
  {
   "cell_type": "markdown",
   "metadata": {},
   "source": [
    "Let us continue to sample the exponent $d$ from $[0, r) \\cap \\mathbb Z$.\n",
    "\n",
    "To this end, we use the [<code>sample_integer(B)</code>](../docs/math/random/sample_integer.md) convenience function provided by [Quaspy](https://github.com/ekera/quaspy)."
   ]
  },
  {
   "cell_type": "code",
   "execution_count": 2,
   "metadata": {},
   "outputs": [
    {
     "name": "stdout",
     "output_type": "stream",
     "text": [
      "Sampled d = 26046655994679286574374766241369555976235272518257515665412510485456329664735736163500845066158257105208337102748983\n",
      "Computed x = (38094112960201363581443997052505814464706699016090154015286646959348949038135785282498024756212537717005953159209414, 30297166203074667741662041277094715915784574365901105383678323334575282408637202058228593815868634001207317916673801) on y^2 = x^3 + 39402006196394479212279040100143613805079739270465446667948293404245721771496870329047266088258938001861606973112316 x + 27580193559959705877849011840389048093056905856361568521428707301988689241309860865136260764883745107765439761230575 (mod 39402006196394479212279040100143613805079739270465446667948293404245721771496870329047266088258938001861606973112319)\n"
     ]
    }
   ],
   "source": [
    "from quaspy.math.random import sample_integer;\n",
    "\n",
    "# Sample d.\n",
    "m = 384;\n",
    "d = sample_integer(r);\n",
    "\n",
    "print(\"Sampled d =\", d);\n",
    "\n",
    "# Compute x.\n",
    "x = g ** d;\n",
    "\n",
    "print(\"Computed x =\", x);"
   ]
  },
  {
   "cell_type": "markdown",
   "metadata": {},
   "source": [
    "## 1. Simulating the quantum part of Shor's algorithm\n",
    "We may now proceed to use the [<code>sample_j_k_given_d_r_heuristic(d, r, m, sigma, l, ..)</code>](../docs/logarithmfinding/sampling/sample_j_k_given_d_r_heuristic.md) function provided by [Quaspy](https://github.com/ekera/quaspy) to heuristically simulate the quantum part of Shor's algorithm for computing discrete logarithms when modified as in [[E19p]](https://doi.org/10.48550/arXiv.1905.09084).\n",
    "\n",
    "Below, we use this function to simulate running the algorithm for $d$ and $r$ with control registers of length $m + \\sigma$ bits and $\\ell$ bits respectively.\n",
    "\n",
    "This yields a frequency pair $(j, k)$ sampled from the probability distribution induced by the quantum algorithm:"
   ]
  },
  {
   "cell_type": "code",
   "execution_count": 3,
   "metadata": {},
   "outputs": [
    {
     "name": "stdout",
     "output_type": "stream",
     "text": [
      "Sampled j = 15478387178455032864378871666556073024000828228842641764920079573660068220935466213618668977828979067324798308331576\n",
      "Sampled k = 81447030165655034437254060944243733002916920223995551773468391363517124218955370555990875744135416284979306219370\n"
     ]
    }
   ],
   "source": [
    "from quaspy.logarithmfinding.sampling import sample_j_k_given_d_r_heuristic;\n",
    "\n",
    "sigma = 0;\n",
    "l = m + sigma;\n",
    "\n",
    "[j, k] = sample_j_k_given_d_r_heuristic(d, r, m, sigma, l);\n",
    "\n",
    "print(\"Sampled j =\", j);\n",
    "print(\"Sampled k =\", k);"
   ]
  },
  {
   "cell_type": "markdown",
   "metadata": {},
   "source": [
    "### 1.1 Solving the frequency pair $(j, k)$ for $d$\n",
    "We may now execute the classical post-processing algorithm from [[E19p]](https://doi.org/10.48550/arXiv.1905.09084) to recover $d$ from $(j, k)$.\n",
    "\n",
    "To this end, we use the [<code>solve_j_k_for_d_given_r(j, k, m, sigma, l, g, x, r, ..)</code>](../docs/logarithmfinding/general/postprocessing/solve_j_k_for_d_given_r.md) function provided by [Quaspy](https://github.com/ekera/quaspy)."
   ]
  },
  {
   "cell_type": "code",
   "execution_count": 4,
   "metadata": {},
   "outputs": [
    {
     "name": "stdout",
     "output_type": "stream",
     "text": [
      "Recovered d = 26046655994679286574374766241369555976235272518257515665412510485456329664735736163500845066158257105208337102748983\n",
      "\n",
      "[ OK ] Successfully recovered d.\n"
     ]
    }
   ],
   "source": [
    "from quaspy.logarithmfinding.general.postprocessing import solve_j_k_for_d_given_r;\n",
    "\n",
    "recovered_d = solve_j_k_for_d_given_r(j, k, m, sigma, l, g, x, r);\n",
    "\n",
    "if (recovered_d == d):\n",
    "  print(\"Recovered d =\", d);\n",
    "\n",
    "  print(\"\\n[ OK ] Successfully recovered d.\");\n",
    "else:\n",
    "  print(\"[FAIL] Failed to recover d.\");"
   ]
  }
 ],
 "metadata": {
  "interpreter": {
   "hash": "31f2aee4e71d21fbe5cf8b01ff0e069b9275f58929596ceb00d14d90e3e16cd6"
  },
  "kernelspec": {
   "display_name": "Python 3.8.9 64-bit",
   "language": "python",
   "name": "python3"
  },
  "language_info": {
   "codemirror_mode": {
    "name": "ipython",
    "version": 3
   },
   "file_extension": ".py",
   "mimetype": "text/x-python",
   "name": "python",
   "nbconvert_exporter": "python",
   "pygments_lexer": "ipython3",
   "version": "3.9.6"
  }
 },
 "nbformat": 4,
 "nbformat_minor": 4
}
