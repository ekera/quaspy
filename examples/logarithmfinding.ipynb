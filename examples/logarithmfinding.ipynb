{
 "cells": [
  {
   "cell_type": "markdown",
   "metadata": {},
   "source": [
    "# Shor's algorithm for computing discrete logarithms\n",
    "This notebook exemplifies using [Quaspy](https://github.com/ekera/quaspy) to simulate Shor's algorithm for computing general discrete logarithms [[Shor94]](https://doi.org/10.1109/SFCS.1994.365700), modified as in [[E19p]](https://doi.org/10.48550/arXiv.1905.09084), and with the classical post-processing from [[E19p]](https://doi.org/10.48550/arXiv.1905.09084).\n",
    "\n",
    "To start off, let us define the P-384 curve $E$ and associated generator $g$ of order $r$ as specified in [NIST SP 800-186](https://doi.org/10.6028/NIST.SP.800-186)."
   ]
  },
  {
   "cell_type": "code",
   "execution_count": 1,
   "metadata": {},
   "outputs": [],
   "source": [
    "!pip3 install -q --pre quaspy # Make sure that quaspy is installed."
   ]
  },
  {
   "cell_type": "code",
   "execution_count": 2,
   "metadata": {},
   "outputs": [],
   "source": [
    "from quaspy.math.groups import ShortWeierstrassCurveOverPrimeField;\n",
    "from quaspy.math.groups import PointOnShortWeierstrassCurveOverPrimeField;\n",
    "\n",
    "# Define the elliptic curve.\n",
    "p = 39402006196394479212279040100143613805079739270465446667948293404245721771496870329047266088258938001861606973112319;\n",
    "\n",
    "a = -3;\n",
    "b = 27580193559959705877849011840389048093056905856361568521428707301988689241309860865136260764883745107765439761230575;\n",
    "\n",
    "E = ShortWeierstrassCurveOverPrimeField(a, b, p);\n",
    "\n",
    "# Define the generator.\n",
    "g_x = 26247035095799689268623156744566981891852923491109213387815615900925518854738050089022388053975719786650872476732087;\n",
    "g_y = 8325710961489029985546751289520108179287853048861315594709205902480503199884419224438643760392947333078086511627871;\n",
    "\n",
    "g = PointOnShortWeierstrassCurveOverPrimeField(g_x, g_y, E);\n",
    "\n",
    "# Define the order of the generator.\n",
    "r = 39402006196394479212279040100143613805079739270465446667946905279627659399113263569398956308152294913554433653942643;"
   ]
  },
  {
   "cell_type": "markdown",
   "metadata": {},
   "source": [
    "Let us continue to sample the exponent $d$ from $[0, r) \\cap \\mathbb Z$.\n",
    "\n",
    "To this end, we use the [<code>sample_integer(B)</code>](../docs/math/random/sample_integer.md) convenience function provided by [Quaspy](https://github.com/ekera/quaspy)."
   ]
  },
  {
   "cell_type": "code",
   "execution_count": 3,
   "metadata": {},
   "outputs": [
    {
     "name": "stdout",
     "output_type": "stream",
     "text": [
      "Sampled d = 35773185701206256782389453125645907362921156418776666313236175287270064070982806501651049954067133099835270458090283\n",
      "\nComputed x = (26839090637848134892919745247034038406278373958672665401616852826868571713177666001845223681473060814587388838646401, 25182122108607584919760546446572336973082854037194233293533787963866589372314610230855156176325809247998651354088087) on y^2 = x^3 + 39402006196394479212279040100143613805079739270465446667948293404245721771496870329047266088258938001861606973112316 x + 27580193559959705877849011840389048093056905856361568521428707301988689241309860865136260764883745107765439761230575 (mod 39402006196394479212279040100143613805079739270465446667948293404245721771496870329047266088258938001861606973112319)\n"
     ]
    }
   ],
   "source": [
    "from quaspy.math.random import sample_integer;\n",
    "\n",
    "# Sample d.\n",
    "m = 384;\n",
    "d = sample_integer(r);\n",
    "\n",
    "print(\"Sampled d =\", d);\n",
    "\n",
    "# Compute x.\n",
    "x = g ** d;\n",
    "\n",
    "print(\"\\nComputed x =\", x);"
   ]
  },
  {
   "cell_type": "markdown",
   "metadata": {},
   "source": [
    "## 1. Solving for the logarithm $d$ given $r$ in a single run\n",
    "To start off, let us first consider the setting where our goal is to solve for the discrete logarithm $d$ given the order $r$ in a single run of the quantum part of Shor's algorithm [[Shor94]](https://doi.org/10.1109/SFCS.1994.365700) modified as in [[E19p]](https://doi.org/10.48550/arXiv.1905.09084), and with the classical post-processing from [[E19p]](https://doi.org/10.48550/arXiv.1905.09084)."
   ]
  },
  {
   "cell_type": "markdown",
   "metadata": {},
   "source": [
    "### 1.1. Sampling a frequency pair $(j, k)$\n",
    "[Quaspy](https://github.com/ekera/quaspy) provides a function [<code>sample_j_k_given_d_r_heuristic(d, r, m, sigma, l, ..)</code>](../docs/logarithmfinding/sampling/sample_j_k_given_d_r_heuristic.md) for heuristically simulating the quantum part of Shor's algorithm modified as in [[E19p]](https://doi.org/10.48550/arXiv.1905.09084) for a given logarithm $d$, order $r$, and parameters $m$, $\\varsigma$ and $\\ell$, where $m$ is an upper bound on the bit length of $r$, $\\varsigma$ is a non-negative integer and $\\ell$ is a positive integer. For further details, see [[E19p]](https://doi.org/10.48550/arXiv.1905.09084).\n",
    "\n",
    "Below, we use said function to simulate running the algorithm for $d$ and $r$ with control registers of length $m + \\varsigma$ qubits and $\\ell$ qubits respectively.\n",
    "More specifically, for $g$ a generator and $x = g^d$, we simulate inducing the state\n",
    "\n",
    "$$\\frac{1}{2^{m + \\varsigma + \\ell}}\n",
    "\\sum_{a, \\, j \\, = \\, 0}^{2^{m+\\varsigma} - 1}\n",
    "\\sum_{b, \\, k \\, = \\, 0}^{2^{\\ell} - 1}\n",
    "\\mathrm{exp}\n",
    "\\left(\n",
    "  \\frac{2 \\pi \\mathrm{i}}{2^{m + \\varsigma}} (aj + 2^{m+\\varsigma-\\ell} bk)\n",
    "\\right)\n",
    "|\\, j, k, g^a x^{-b} \\,\\rangle$$\n",
    "\n",
    "and reading out the first two control registers.\n",
    "This yields a frequency pair $(j, k)$ sampled from the probability distribution induced by the quantum part of the algorithm:"
   ]
  },
  {
   "cell_type": "code",
   "execution_count": 4,
   "metadata": {},
   "outputs": [
    {
     "name": "stdout",
     "output_type": "stream",
     "text": [
      "Sampled j = 22160468565457300365530738477763505403106646292489537185757901985106926272610027630708214989346589022038800714152928\n",
      "Sampled k = 28049371525036017893479770229003917987755673458228553796757902524485196773199942341459745367679150254785327158797765\n"
     ]
    }
   ],
   "source": [
    "from quaspy.logarithmfinding.sampling import sample_j_k_given_d_r_heuristic;\n",
    "\n",
    "sigma = 0;\n",
    "l = m;\n",
    "\n",
    "[j, k] = sample_j_k_given_d_r_heuristic(d, r, m, sigma, l, timeout = 30);\n",
    "\n",
    "print(\"Sampled j =\", j);\n",
    "print(\"Sampled k =\", k);"
   ]
  },
  {
   "cell_type": "markdown",
   "metadata": {},
   "source": [
    "As explained in [[E19p]](https://doi.org/10.48550/arXiv.1905.09084), $\\sim \\ell$ bits of information on $d$ is computed in each run of the quantum part of Ekerå–Håstad's algorithm. To solve in a single run, we therefore select $\\ell = m$ above. By increasing $\\varsigma$, additional peaks that arise due to noise can be suppressed. When solving in a single run, we can afford to seek over the different peaks in the classical post-processing, and we therefore select $\\varsigma = 0$ above."
   ]
  },
  {
   "cell_type": "markdown",
   "metadata": {},
   "source": [
    "### 1.2. Solving the frequency pair $(j, k)$ and $g$ and $x$ for $d$ given $r$\n",
    "We now proceed to solve the frequency pair $(j, k)$ for the logarithm $d$ given the order $r$.\n",
    "\n",
    "To this end, we use the [<code>solve_j_k_for_d_given_r(j, k, m, sigma, l, g, x, r, ..)</code>](../docs/logarithmfinding/general/postprocessing/solve_j_k_for_d_given_r.md) function provided by [Quaspy](https://github.com/ekera/quaspy). \n",
    "It solves $(j, k)$ for $d$ given $r$ by using the lattice-based post-processing from [[E19p]](https://doi.org/10.48550/arXiv.1905.09084)."
   ]
  },
  {
   "cell_type": "code",
   "execution_count": 5,
   "metadata": {},
   "outputs": [
    {
     "name": "stdout",
     "output_type": "stream",
     "text": [
      "Recovered d = 35773185701206256782389453125645907362921156418776666313236175287270064070982806501651049954067133099835270458090283\n",
      "\n",
      "[ OK ] Successfully recovered d.\n"
     ]
    }
   ],
   "source": [
    "from quaspy.logarithmfinding.general.postprocessing import solve_j_k_for_d_given_r;\n",
    "\n",
    "recovered_d = solve_j_k_for_d_given_r(j, k, m, sigma, l, g, x, r);\n",
    "\n",
    "if (recovered_d == d):\n",
    "  print(\"Recovered d =\", d);\n",
    "\n",
    "  print(\"\\n[ OK ] Successfully recovered d.\");\n",
    "else:\n",
    "  print(\"[FAIL] Failed to recover d.\");"
   ]
  },
  {
   "cell_type": "markdown",
   "metadata": {},
   "source": [
    "## 2. Making tradeoffs and solving for $d$ given $r$ in multiple runs\n",
    "Let us now consider the case where we make tradeoffs by picking $\\ell \\approx m/s$ for $s$ some tradeoff factor.\n",
    "\n",
    "As explained in [[E19p]](https://doi.org/10.48550/arXiv.1905.09084) and [[E24t]](https://diva-portal.org/smash/get/diva2:1902626/FULLTEXT01.pdf) (see Sect. 5.5), each run of the quantum part of Shor's algorithm modified as in [[E19p]](https://doi.org/10.48550/arXiv.1905.09084) heuristically yields $\\sim \\ell$ bits of information on the logarithm $d$.\n",
    "Hence, we heuristically expect to have to perform at least $s$ runs to solve for $d$ given $r$ efficiently and with high probability of success in the classical post-processing.\n",
    "\n",
    "According to the heuristic estimates in [[E24t]](https://diva-portal.org/smash/get/diva2:1902626/FULLTEXT01.pdf) (see Tabs. 5.4 and 5.5 on p. 80) which were computed with the [Qunundrum](https://github.com/ekera/qunundrum) suite of MPI programs, when $m = 384$, $s = 8$ and $\\ell = \\lceil m / s \\rceil$, we heuristically need to make no more than $n = 11$ runs to solve efficiently in the classical post-processing with $\\ge 99\\%$ success probability without enumerating the lattice.\n",
    "In the below example, we use this specific parameterization."
   ]
  },
  {
   "cell_type": "markdown",
   "metadata": {},
   "source": [
    "### 2.1. Sampling $n$ frequency pairs $((j_1, k_1), \\, \\ldots, \\, (j_n, k_n))$\n",
    "To start off, in analogy with Sect. 1.1 above, we heuristically sample $n$ frequency pairs $((j_1, k_1), \\, \\ldots, \\, (j_n, k_n))$ from the distribution induced by the quantum part of Shor's algorithm modified as in [[E19p]](https://doi.org/10.48550/arXiv.1905.09084).\n",
    "To this end, we use the [<code>sample_j_k_given_d_r_heuristic(d, r, m, sigma, l, ..)</code>](../docs/logarithmfinding/sampling/sample_j_k_given_d_r_heuristic.md) function provided by [Quaspy](https://github.com/ekera/quaspy)."
   ]
  },
  {
   "cell_type": "code",
   "execution_count": 6,
   "metadata": {},
   "outputs": [
    {
     "name": "stdout",
     "output_type": "stream",
     "text": [
      "Sampled pairs [j, k] = [[18757216399025630899805659090112177406425803989145763857464119548338470559017736742990465994109342835012720966546169303, 216059640135317], [9632536199203028041114865368697085517542763140750805902830058197952491920127375611242357472609185260670886501392387405, 206255684141109], [17691928455994243274382382105213728079278935449833919961274332010131985864495169624256102236134168405640785439899135316, 233785455308049], [18401735677033509643472235240560404686962988461478841416456751209944650986917214831044416052923390442811058692912683951, 227712613552169], [17004693260574759854061823525182608771363442695896929485703780451156201712568243791007691733771793454902720767594685689, 190976820074786], [1908265761582526492702045721953824201192805902151196435640887269316059339929522213449412786503988328434649492023152159, 253993219320439], [1839854491009785738627560939472314180836260119589096352886845629978518103848484244205131695285550512183510115059212486, 190472318355106], [12979609413454630466957865520087157677496903032883749444627706982472513682072697593809458668417466853069243224083333011, 242915061534595], [6133535719192248649786412462361970828868456650400134958946698573895315171231332120163131092665880839423887010555514616, 173521798790496], [8785916722026331549959575637362436146676880959029739632319266058195007000857494943152955115087710655205651333042403537, 274609536039819], [10218895530867053250057303031579226432793077076495123297685719126570936621729221386148566435070087238414634967020460360, 113296114675]]\n"
     ]
    }
   ],
   "source": [
    "from quaspy.logarithmfinding.sampling import sample_j_k_given_d_r_heuristic;\n",
    "\n",
    "from math import ceil;\n",
    "\n",
    "sigma = 9\n",
    "s = 8;\n",
    "l = ceil(m / s);\n",
    "n = 11;\n",
    "\n",
    "j_k_list = [sample_j_k_given_d_r_heuristic(d, r, m, sigma, l, timeout = 30) \\\n",
    "              for _ in range(n)];\n",
    "\n",
    "print(\"Sampled pairs [j, k] =\", j_k_list);"
   ]
  },
  {
   "cell_type": "markdown",
   "metadata": {},
   "source": [
    "### 2.2. Solving the $n$ frequency pairs $((j_1, k_1), \\, \\ldots, \\, (j_n, k_n))$ and $g$ and $x$ for $d$ given $r$"
   ]
  },
  {
   "cell_type": "markdown",
   "metadata": {},
   "source": [
    "We now proceed to solve the $n$ frequency pairs $((j_1, k_1), \\, \\ldots, \\, (j_n, k_n))$ for the logarithm $d$ given the order $r$.\n",
    "\n",
    "To this end, we use the [<code>solve_multiple_j_k_for_d_given_r(j_k_list, m, l, g, x, ..)</code>](../docs/logarithmfinding/short/postprocessing/solve_multiple_j_k_for_d.md) function provided by [Quaspy](https://github.com/ekera/quaspy).\n",
    "It jointly solves  $((j_1, k_1), \\, \\ldots, \\, (j_n, k_n))$ for $d$ by using the lattice-based post-processing from [[E19p]](https://doi.org/10.48550/arXiv.1905.09084)."
   ]
  },
  {
   "cell_type": "code",
   "execution_count": 7,
   "metadata": {},
   "outputs": [
    {
     "name": "stdout",
     "output_type": "stream",
     "text": [
      "Recovered d = 35773185701206256782389453125645907362921156418776666313236175287270064070982806501651049954067133099835270458090283\n",
      "\n",
      "[ OK ] Successfully recovered d.\n"
     ]
    }
   ],
   "source": [
    "from quaspy.logarithmfinding.general.postprocessing import solve_multiple_j_k_for_d_given_r;\n",
    "\n",
    "recovered_d = solve_multiple_j_k_for_d_given_r(j_k_list,\n",
    "                                               m,\n",
    "                                               sigma,\n",
    "                                               l,\n",
    "                                               g,\n",
    "                                               x,\n",
    "                                               r,\n",
    "                                               enumerate = False,\n",
    "                                               timeout = 30);\n",
    "\n",
    "if (recovered_d == d):\n",
    "  print(\"Recovered d =\", d);\n",
    "\n",
    "  print(\"\\n[ OK ] Successfully recovered d.\");\n",
    "else:\n",
    "  print(\"[FAIL] Failed to recover d.\");"
   ]
  }
 ],
 "metadata": {
  "kernelspec": {
   "display_name": "Python 3",
   "language": "python",
   "name": "python3"
  },
  "language_info": {
   "codemirror_mode": {
    "name": "ipython",
    "version": 3
   },
   "file_extension": ".py",
   "mimetype": "text/x-python",
   "name": "python",
   "nbconvert_exporter": "python",
   "pygments_lexer": "ipython3",
   "version": "3.13.4"
  }
 },
 "nbformat": 4,
 "nbformat_minor": 4
}
