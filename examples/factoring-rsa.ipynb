{
 "cells": [
  {
   "cell_type": "markdown",
   "metadata": {},
   "source": [
    "# Ekerå–Håstad's algorithm for factoring RSA integers\n",
    "This notebook exemplifies using [Quaspy](https://github.com/ekera/quaspy) to simulate Ekerå–Håstads algorithm for factoring RSA integers [[EH17]](https://doi.org/10.1007/978-3-319-59879-6_20), with improvements from [[E20]](https://doi.org/10.1007/s10623-020-00783-2) and [[E23p]](https://doi.org/10.48550/arXiv.2309.01754), and the post-processing in [[E23p]](https://doi.org/10.48550/arXiv.2309.01754).\n",
    "\n",
    "To start off, let us pick two distinct prime factors $p$ and $q$ uniformly at random from the set of all $l$-bit prime factors, under the restriction that $N = pq$ is a $2l$-bit integer, so as to simulate how the modulus $N$ is typically selected in RSA. To this end, we use the [<code>sample_l_bit_prime(l)</code>](../docs/math/primes/sample_l_bit_prime.md) convenience function provided by [Quaspy](https://github.com/ekera/quaspy)."
   ]
  },
  {
   "cell_type": "code",
   "execution_count": 9,
   "metadata": {},
   "outputs": [],
   "source": [
    "!pip3 install -q quaspy # Make sure that quaspy is installed."
   ]
  },
  {
   "cell_type": "code",
   "execution_count": 12,
   "metadata": {},
   "outputs": [
    {
     "name": "stdout",
     "output_type": "stream",
     "text": [
      "Sampled p = 177790946175996202448573953344264054514807356368958387963643292524671627693680903545445438389888848542540372201138683359521924826287651216980648892070261450531116119237056943005121911524311027834455467182229068316438076233167859847938683984456735896578836343253115690162766100459204868474546123438589151333919\n",
      "Sampled q = 106975832459349338167515218133264508278122469545030318330801850161713234327992605292895424640957620940284657534222850480828563901923458215089523924987267776329454401152615383104586374333801588586753859138561719041426907883490240824403151655863393261534758674032596500811936573390712850126094903883179858274179\n",
      "\n",
      "Computed N = 19019334470912565643896812088589747410936724731841946557309690164400860813289613366116906129965000581517867785437793513542502001973174645899374280268037034269496197661439843388563926297918064079721804368802830046430170785000439274654765919536647648042740420496973206543108336761213924726590902006750227957049516929738493954749383683265491598500446478687832335120838195557722117464510186244777662210208837622562690875369025239679036214992203111357250552499206306663013736820807781204751915509057984101309855909557600832345108762653524020904357816821543465044575727001672169020527410421373199879056888557027927084577501\n"
     ]
    }
   ],
   "source": [
    "from quaspy.math.primes import sample_l_bit_prime;\n",
    "\n",
    "l = 1024;\n",
    "\n",
    "while True:\n",
    "  p = sample_l_bit_prime(l);\n",
    "\n",
    "  while True:\n",
    "    q = sample_l_bit_prime(l);\n",
    "    if p != q:\n",
    "      break;\n",
    "\n",
    "  N = p * q;\n",
    "\n",
    "  if (2 ** (2 * l - 1)) <= N < (2 ** (2 * l)):\n",
    "    break;\n",
    "\n",
    "print(\"Sampled p =\", p);\n",
    "print(\"Sampled q =\", q);\n",
    "\n",
    "print(\"\\nComputed N =\", N);"
   ]
  },
  {
   "cell_type": "markdown",
   "metadata": {},
   "source": [
    "## 1. Simulating order finding in $\\mathbb Z_N^*$ exactly to sample $r$\n",
    "The first step in the classical pre-processing in Ekerå–Håstad's factoring algorithm [[EH17]](https://doi.org/10.1007/978-3-319-59879-6_20) is to select $g$ uniformly at random from $\\mathbb Z_N^*$.\n",
    "\n",
    "[Quaspy](https://github.com/ekera/quaspy) provides a function [<code>sample_r_given_N(N, factors)</code>](../docs/factoring/sampling/sample_r_given_N.md) for exactly sampling an element $g$ uniformly at random from $\\mathbb Z_N^*$ and returning its order without explicitly computing and returning $g$. This function requires that the factorization of $N$ is known, as is the case here given that we selected the factors of $N$.\n",
    "\n",
    "Below, we use this function to simulate the initial classical pre-processing step of Ekerå–Håstad's algorithm. We then setup a simulated generator $g$ for a cyclic group of order $r$ by using the [SimulatedCyclicGroupElement](../docs/math/groups/SimulatedCyclicGroupElement.md) class provided by [Quaspy](https://github.com/ekera/quaspy)."
   ]
  },
  {
   "cell_type": "code",
   "execution_count": 13,
   "metadata": {},
   "outputs": [
    {
     "name": "stdout",
     "output_type": "stream",
     "text": [
      "Sampled r = 1056629692828475869105378449366097078385373596213441475406093898022270045182756298117605896109166698973214876968766306307916777887398591438854126681557613014972010981191102410475773683217670226651211353822379447023898376944468848591931439974258202669041134472054067030172685375622995818143939000375012664280512897942214367178264866338556337218758530492328797023030208356390874033471584040885517852620999508504436991424092428102149207014666222329176687760119376524230731461134339382146789290177770638049369254624267224721513543252048106679556443398956851993692340665799247601641817097084626786692013751650342115276078\n"
     ]
    }
   ],
   "source": [
    "from quaspy.factoring.sampling import sample_r_given_N;\n",
    "\n",
    "from quaspy.math.groups import SimulatedCyclicGroupElement;\n",
    "\n",
    "# Sample r.\n",
    "r = sample_r_given_N(N, factors = [[p, 1], [q, 1]]);\n",
    "\n",
    "print(\"Sampled r =\", r);\n",
    "\n",
    "# Setup a simulated cyclic group element of order r.\n",
    "g = SimulatedCyclicGroupElement(r);"
   ]
  },
  {
   "cell_type": "markdown",
   "metadata": {},
   "source": [
    "### 1.1. Simulating the quantum part of Ekerå–Håstad's algorithm\n",
    "In Ekerå-Håstad's algorithm [[EH17]](https://doi.org/10.1007/978-3-319-59879-6_20), with improvements from [[E20]](https://doi.org/10.1007/s10623-020-00783-2) and [[E23p]](\n",
    "https://doi.org/10.48550/arXiv.2309.01754), the idea is now to use $g$ to compute\n",
    "\n",
    "$$x = g^{(N - 1) / 2 - 2^{l - 1}} = g^{((p - 1) / 2) + ((q - 1) / 2) - 2^{l - 1}}$$\n",
    "\n",
    "classically by using that $N$ is known, and to then compute the discrete logarithm $\\log_g x \\in [0, r) \\cap \\mathbb Z$ quantumly.\n",
    "\n",
    "Let $m = l - 1$ be an upper bound on the bit length of of the the logarithm, and let $\\ell = m - \\Delta$ for some positive constant $\\Delta$.\n",
    "Let $d = ((p - 1) / 2) + ((q - 1) / 2) - 2^{l - 1}$.\n",
    "Provided that $r \\ge 2^{m+\\ell} + (2^\\ell - 1)d$, we then have that $d = \\log_g x$, in which case we can solve $N = pq$ and $d = ((p - 1) / 2) + ((q - 1) / 2) - 2^{l - 1}$ for $p$ and $q$ by solving a quadratic equation.\n",
    "\n",
    "In the below example, $x$ is first computed given $N$. Furthermore, $d$ is computed given $p$ and $q$ since $d$ is needed by the simulator for the quantum part of Ekerå–Håstad's algorithm. [Quaspy](https://github.com/ekera/quaspy) provides convenience functions [<code>setup_x_given_g_N(g, N)</code>](../docs/factoring/rsa/setup_x_given_g_N.md) and [<code>setup_d_given_p_q(p, q)</code>](../docs/factoring/rsa/setup_d_given_p_q.md) for computing $x$ and $d$, respectively, but below we perform the computation explicitly to facilitate reader comprehension.\n",
    "\n",
    "[Quaspy](https://github.com/ekera/quaspy) provides a function [<code>sample_j_k_given_d_r_tau(d, r, m, ell, tau)</code>](../docs/logarithmfinding/short/sampling/sample_j_k_given_d_r_tau.md) for simulating the quantum part of Ekerå–Håstad's factoring algorithm exactly (up to arbitrary precision) for a given logarithm $d$, order $r$, and parameters $m$, $\\ell$ and $\\tau$, where $\\tau$ is related to the sampling as explained in [[E23p]](https://doi.org/10.48550/arXiv.2309.01754). Below, we use the this function to simulate running the quantum part of Ekerå–Håstad's algorithm. The yields a frequency pair $(j, k)$ sampled from the probability distribution induced by the quantum algorithm.\n",
    "\n",
    "Note that the [<code>sample_j_k_given_d_r_tau(d, r, m, ell, tau)</code>](../docs/logarithmfinding/short/sampling/sample_j_k_given_d_r_tau.md) function checks that $r \\ge 2^{m+\\ell} + (2^\\ell - 1)d$. As explained in [[E23p]](https://doi.org/10.48550/arXiv.2309.01754), this requirement is met with very large probability with $\\Delta = 30$."
   ]
  },
  {
   "cell_type": "code",
   "execution_count": 14,
   "metadata": {},
   "outputs": [
    {
     "name": "stdout",
     "output_type": "stream",
     "text": [
      "Sampled j = 3974847159797048146688081283879881268934890262117519771160541746044361919385960817113197764019239054159939533289270817247736599460816723245930156464725239459057983657192766853988943044412326284290085490686289511315583412439332771463207878976275550258497945847728592949553083939472686301089834741228473638779695073809110359032043034076172640809228551370431510861599487144513651208696963996443267106662448214470711970696245000430496967743678302470647762508331480537228159023192391411142106893746807401172886170732957087174265132378814699827541538822409231250267106020718563243398402816577304167811724053138023\n",
      "Sampled k = 15541199746928529165858827873857818888298093473090295741353877454738272949532946076260662241004369546107941617696444426293986261516796606898038029306776992839773423487891937675861045712959873300675195583996286873783117399823808991425142556030270338710568117538856854123577601112013607203295005877024\n"
     ]
    }
   ],
   "source": [
    "from quaspy.logarithmfinding.short.sampling import sample_j_k_given_d_r_tau;\n",
    "\n",
    "# Compute r.\n",
    "x = g ** ((N - 1) // 2 - 2 ** (l - 1));\n",
    "\n",
    "# Compute d.\n",
    "d = ((p - 1) // 2) + ((q - 1) // 2) - 2 ** (l - 1);\n",
    "\n",
    "# Sanity check that x = g^d.\n",
    "if x != g ** d:\n",
    "  raise Exception(\"Error: Unexpected result.\");\n",
    "\n",
    "# Simulate running the quantum part of the algorithm for g and x.\n",
    "m = l - 1;\n",
    "Delta = 30;\n",
    "ell = m - Delta;\n",
    "tau = 20;\n",
    "\n",
    "[j, k] = sample_j_k_given_d_r_tau(d, r, m, ell, tau);\n",
    "\n",
    "print(\"Sampled j =\", j);\n",
    "print(\"Sampled k =\", k);"
   ]
  },
  {
   "cell_type": "markdown",
   "metadata": {},
   "source": [
    "### 1.2. Solving the frequency pair $(j, k)$ for $p$ and $q$\n",
    "We now proceed to solve the frequency pair $(j, k)$ for the factors $p$ and $q$ of $N$.\n",
    "\n",
    "To this end, we first use the [<code>solve_j_k_for_d(j, m, l, g, N, ..)</code>](../docs/logarithmfinding/short/postprocessing/solve_j_k_for_d.md) convenience function provided by [Quaspy](https://github.com/ekera/quaspy) to solve $(j, k)$ for $d$ using the lattice-based post-processing from [[E23p]](https://doi.org/10.48550/arXiv.2309.01754). We then solve $d$ for the prime factors $p$ and $q$ of $N$ using the post-processing in [[E23p]](https://doi.org/10.48550/arXiv.2309.01754) that is also described in [[E20]](https://doi.org/10.1007/s10623-020-00783-2).\n",
    "\n",
    "As stated above, to solve $d = ((p - 1) / 2) + ((q - 1) / 2) - 2^{l - 1}$ and $N = pq$ for $p$ and $q$, we only need to solve a quadratic equation.\n",
    "[Quaspy](https://github.com/ekera/quaspy) provides a convenience function [<code>split_N_given_d(d, N)</code>](../docs/factoring/rsa/postprocessing/split_N_given_d.md) for this purpose, but below we solve explicitly using the quadratic formula to faciliate reader comprehension."
   ]
  },
  {
   "cell_type": "code",
   "execution_count": 15,
   "metadata": {},
   "outputs": [
    {
     "name": "stdout",
     "output_type": "stream",
     "text": [
      "p = 106975832459349338167515218133264508278122469545030318330801850161713234327992605292895424640957620940284657534222850480828563901923458215089523924987267776329454401152615383104586374333801588586753859138561719041426907883490240824403151655863393261534758674032596500811936573390712850126094903883179858274179\n",
      "q = 177790946175996202448573953344264054514807356368958387963643292524671627693680903545445438389888848542540372201138683359521924826287651216980648892070261450531116119237056943005121911524311027834455467182229068316438076233167859847938683984456735896578836343253115690162766100459204868474546123438589151333919\n",
      "\n",
      "[ OK ] Successfully recovered p and q.\n"
     ]
    }
   ],
   "source": [
    "from quaspy.logarithmfinding.short.postprocessing import solve_j_k_for_d;\n",
    "\n",
    "from gmpy2 import isqrt as sqrt;\n",
    "\n",
    "# Recover d from the pair (j, k) output by the quantum algorithm.\n",
    "for [tau, t] in [[4, 17], [7, 17], [14, 17], [17, 17], [20, 19]]:\n",
    "  recovered_d = solve_j_k_for_d(j, k, m, ell, g, x, tau = tau, t = t);\n",
    "  if recovered_d != None:\n",
    "    break;\n",
    "\n",
    "if None == recovered_d:\n",
    "  print(\"[FAIL] Failed to recover d from (j, k).\");\n",
    "else:\n",
    "  # Form d' = p + q given d.\n",
    "  p_plus_q = 2 * recovered_d + 2 ** l + 2;\n",
    "\n",
    "  # Solve d' = p + q and N = pq for p and q using the quadratic formula:\n",
    "  candidate_p = (p_plus_q - sqrt((p_plus_q ** 2) - 4 * N)) // 2;\n",
    "  candidate_q = (p_plus_q + sqrt((p_plus_q ** 2) - 4 * N)) // 2;\n",
    "\n",
    "  if (1 < candidate_p < N) and \\\n",
    "    (1 < candidate_q < N) and \\\n",
    "    (candidate_p * candidate_q == N):\n",
    "    print(\"p =\", candidate_p);\n",
    "    print(\"q =\", candidate_q);\n",
    "\n",
    "    print(\"\\n[ OK ] Successfully recovered p and q.\");\n",
    "  else:\n",
    "    print(\"[FAIL] Failed to recover p and q.\");"
   ]
  },
  {
   "cell_type": "markdown",
   "metadata": {},
   "source": [
    "## 2. Simulating order finding in $\\mathbb Z_N^*$ heuristically to sample $g$ and $r$"
   ]
  },
  {
   "cell_type": "markdown",
   "metadata": {},
   "source": [
    "In addition to the [<code>sample_r_given_N(N, factors)</code>](../docs/factoring/sampling/sample_r_given_N.md) function used above, [Quaspy](https://github.com/ekera/quaspy) also provides a function [<code>sample_g_r_given_N(N, N_factors, ..)</code>](../docs/factoring/sampling/sample_g_r_given_N.md) for sampling an element $g$ uniformly at random from $\\mathbb Z_N^*$ and heuristically computing and returning its order $r$ alongside $g$.\n",
    "\n",
    "This function requires that the factorization of $N = pq$ is known, as is the case here given that we selected $p$ and $q$. (If the function is also fed the factorization of $p - 1$ and $q - 1$ then the function can be made exact, as explained in the [documentation](../docs/factoring/sampling/sample_r_given_N.md).)\n",
    "\n",
    "Below, we use this function to simulate the initial classical pre-processing step of Ekerå–Håstad's algorithm where an element $g$ is selected uniformly at random from $\\mathbb Z_N^*$. This yields $g$ and $r$:"
   ]
  },
  {
   "cell_type": "code",
   "execution_count": 16,
   "metadata": {},
   "outputs": [
    {
     "name": "stdout",
     "output_type": "stream",
     "text": [
      "Sampled g = 16540857727947194892429953614140088993268814515150234657647856371268255653614233133103404487499219069162636428444273356485674123359175162115366423873023739603716283980812224083923576272268630448976975901240800642207570047655514997725477777169635236341474868579163588030473042383702484052958822385700215694684373755714127970335262731143211457122057636888528467023655899378415015196761427579152635612370703331743205612872445971160944355109070771247379627080656181950063689226775772255765570170939768915819146129812108085090555336821906370341883376016739533062524419106757178025087138711076014620383590808887641800623017\n",
      "Sampled r = 3169889078485427607316135348098291235156120788640324426218281694066810135548268894352817688327500096919644630906298918923750333662195774316562380044672839044916032943573307231427321049653010679953634061467138341071695130833406545775794319922774608007123403416162201090518056126868987454431817001125037992841538693826643101534794599015669011656275591476986391069090625069172622100414752122656553557862998525513310974272277284306447621043998666987530063280358129572692194383403018146440367870533311914148107763872801674164540629756144320038669330196870555981077021997397742804925451291253880360076041254951026345828234\n"
     ]
    }
   ],
   "source": [
    "from quaspy.factoring.sampling import sample_g_r_given_N;\n",
    "from quaspy.math.groups import IntegerModRingMulSubgroupElement;\n",
    "\n",
    "[g, r] = sample_g_r_given_N(N, [[p, 1], [q, 1]]);\n",
    "\n",
    "print(\"Sampled g =\", g);\n",
    "print(\"Sampled r =\", r);\n",
    "\n",
    "# Setup the group element g.\n",
    "g = IntegerModRingMulSubgroupElement(g, N);"
   ]
  },
  {
   "cell_type": "markdown",
   "metadata": {},
   "source": [
    "### 2.1. Simulating the quantum part of Ekerå–Håstad's algorithm\n",
    "We may then proceed — in analogy with the above — to use the [<code>sample_j_k_given_d_r_tau(d, r, m, ell, tau)</code>](../docs/logarithmfinding/short/sampling/sample_j_k_given_d_r_tau.md) function provided by [Quaspy](https://github.com/ekera/quaspy) to simulate the quantum part of Ekerå–Håstad's factoring algorithm exactly (up to arbitrary precision) for a given logarithm $d$, order $r$, and parameters $m$, $\\ell$ and $\\tau$, where $\\tau$ is related to the sampling as explained in [[E23p]](https://doi.org/10.48550/arXiv.2309.01754). This yields a frequency pair $(j, k)$ sampled from the probability distribution induced by the algorithm.\n",
    "\n",
    "To first setup $x$ and $d$, we use the [<code>setup_x_given_g_N(g, N)</code>](../docs/factoring/rsa/setup_x_given_g_N.md) and [<code>setup_d_given_p_q(p, q)</code>](../docs/factoring/rsa/setup_d_given_p_q.md) convenience functions provided by [Quaspy](https://github.com/ekera/quaspy)."
   ]
  },
  {
   "cell_type": "code",
   "execution_count": 17,
   "metadata": {},
   "outputs": [
    {
     "name": "stdout",
     "output_type": "stream",
     "text": [
      "Computed x = 18896811055838750605947633620872743594718322989103319585061989969455677204934337111618487648661513532670231557805320130699475014666512871964394398681484663791719361525470431096479033562598534227882151292910189970853786985640175245284231972557499722202956710474549947591331821640601356392429142720580015527380122828582752152150976174576852254464845349840745650999618925721953317772276744734245139278981640444506728449487958617451333002711763792391594970978709865711055417589289406990385107114993251046986122949733332863044326677913889388865465155545535419775742242100985425423863346747362405519018486360561152357694415 (mod 19019334470912565643896812088589747410936724731841946557309690164400860813289613366116906129965000581517867785437793513542502001973174645899374280268037034269496197661439843388563926297918064079721804368802830046430170785000439274654765919536647648042740420496973206543108336761213924726590902006750227957049516929738493954749383683265491598500446478687832335120838195557722117464510186244777662210208837622562690875369025239679036214992203111357250552499206306663013736820807781204751915509057984101309855909557600832345108762653524020904357816821543465044575727001672169020527410421373199879056888557027927084577501)\n",
      "\n",
      "Sampled j = 7166833651801416169399189096470253058431404728727036036193571636313970262451089786950074253035685948650125484679124568572901604333369524024737678569395750677569921796720568097050099148808730250256783092904844635738839153177927399909263897205221358303863314625715438460161129914389212521439997550836909510289182046177067162239661144308907468457850202318589396943881371522623609447935469361252151063458769177263511459626766060891555515042243148485236481040165777468926465748649436843489247341337312973140744407970080657345558149063022239543051978319377793789583134895954174324973178079140443881705745579752757\n",
      "Sampled k = 41976133616765080762353253484493041105250515088131576124291927478993170900738213032646071401231904034609392707710898401274950974914169779483241581444191862762282819196053561344511996119554726098048194184245454341266787455279081644428059474033510829338500504472858920534774812364941470283118546054088\n"
     ]
    }
   ],
   "source": [
    "from quaspy.logarithmfinding.short.sampling import sample_j_k_given_d_r_tau;\n",
    "\n",
    "from quaspy.factoring.rsa import setup_d_given_p_q;\n",
    "from quaspy.factoring.rsa import setup_x_given_g_N;\n",
    "\n",
    "# Compute x.\n",
    "x = setup_x_given_g_N(g, N);\n",
    "\n",
    "print(\"Computed x =\", x);\n",
    "\n",
    "# Compute d.\n",
    "d = setup_d_given_p_q(p, q);\n",
    "\n",
    "# Sanity check that x = g^d.\n",
    "if x != g ** d:\n",
    "  raise Exception(\"Error: Unexpected result.\");\n",
    "\n",
    "m = l - 1;\n",
    "Delta = 30;\n",
    "ell = m - Delta;\n",
    "tau = 20;\n",
    "\n",
    "[j, k] = sample_j_k_given_d_r_tau(d, r, m, l = ell, tau = tau);\n",
    "\n",
    "print(\"\\nSampled j =\", j);\n",
    "print(\"Sampled k =\", k);"
   ]
  },
  {
   "cell_type": "markdown",
   "metadata": {},
   "source": [
    "### 2.2. Solving the frequency pair $(j, k)$ for $p$ and $q$\n",
    "Finally, we may proceed — again in analogy with the above — to solve the frequency pair $(j, k)$ for the factors $p$ and $q$ of $N$.\n",
    "\n",
    "To this end, we first use the [<code>solve_j_k_for_d(j, m, l, g, N, ..)</code>](../docs/logarithmfinding/short/postprocessing/solve_j_k_for_d.md) convenience function provided by [Quaspy](https://github.com/ekera/quaspy) to solve $(j, k)$ for $d$ using the lattice-based post-processing from [[E23p]](https://doi.org/10.48550/arXiv.2309.01754). We then solve $d$ and $N$ for the prime factors $p$ and $q$ of $N$ by using the [<code>split_N_given_d(d, N)</code>](../docs/factoring/rsa/postprocessing/split_N_given_d.md) convenience function provided by [Quaspy](https://github.com/ekera/quaspy)."
   ]
  },
  {
   "cell_type": "code",
   "execution_count": 18,
   "metadata": {},
   "outputs": [
    {
     "name": "stdout",
     "output_type": "stream",
     "text": [
      "p = 106975832459349338167515218133264508278122469545030318330801850161713234327992605292895424640957620940284657534222850480828563901923458215089523924987267776329454401152615383104586374333801588586753859138561719041426907883490240824403151655863393261534758674032596500811936573390712850126094903883179858274179\n",
      "q = 177790946175996202448573953344264054514807356368958387963643292524671627693680903545445438389888848542540372201138683359521924826287651216980648892070261450531116119237056943005121911524311027834455467182229068316438076233167859847938683984456735896578836343253115690162766100459204868474546123438589151333919\n",
      "\n",
      "[ OK ] Successfully recovered p and q.\n"
     ]
    }
   ],
   "source": [
    "from quaspy.logarithmfinding.short.postprocessing import solve_j_k_for_d;\n",
    "\n",
    "from quaspy.factoring.rsa.postprocessing import split_N_given_d;\n",
    "\n",
    "# Recover d.\n",
    "for [tau, t] in [[4, 17], [7, 17], [14, 17], [17, 17], [20, 19]]:\n",
    "  recovered_d = solve_j_k_for_d(j, k, m, ell, g, x, tau = tau, t = t);\n",
    "  if recovered_d != None:\n",
    "    break;\n",
    "\n",
    "if None == recovered_d:\n",
    "  print(\"[FAIL] Failed to recover d from (j, k).\");\n",
    "else:\n",
    "  result = split_N_given_d(d, N);\n",
    "\n",
    "  if None != result:\n",
    "    [recovered_p, recovered_q] = result;\n",
    "\n",
    "    print(\"p =\", recovered_p);\n",
    "    print(\"q =\", recovered_q);\n",
    "\n",
    "    print(\"\\n[ OK ] Successfully recovered p and q.\");\n",
    "  else:\n",
    "    print(\"[FAIL] Failed to recover p and q.\");"
   ]
  }
 ],
 "metadata": {
  "interpreter": {
   "hash": "31f2aee4e71d21fbe5cf8b01ff0e069b9275f58929596ceb00d14d90e3e16cd6"
  },
  "kernelspec": {
   "display_name": "Python 3.8.9 64-bit",
   "language": "python",
   "name": "python3"
  },
  "language_info": {
   "codemirror_mode": {
    "name": "ipython",
    "version": 3
   },
   "file_extension": ".py",
   "mimetype": "text/x-python",
   "name": "python",
   "nbconvert_exporter": "python",
   "pygments_lexer": "ipython3",
   "version": "3.9.6"
  }
 },
 "nbformat": 4,
 "nbformat_minor": 4
}
