{
 "cells": [
  {
   "cell_type": "markdown",
   "metadata": {},
   "source": [
    "# Ekerå–Håstad's algorithm for factoring RSA integers\n",
    "This notebook exemplifies using [Quaspy](https://github.com/ekera/quaspy) to simulate Ekerå–Håstad's algorithm [[EH17]](https://doi.org/10.1007/978-3-319-59879-6_20) for factoring RSA integers, with improvements from [[E20]](https://doi.org/10.1007/s10623-020-00783-2) and [[E23p]](https://doi.org/10.48550/arXiv.2309.01754), and with the post-processing from [[E20]](https://doi.org/10.1007/s10623-020-00783-2) and [[E23p]](https://doi.org/10.48550/arXiv.2309.01754) when making and not making tradeoffs, respectively.\n",
    "\n",
    "To start off, let us pick two distinct prime factors $p$ and $q$ uniformly at random from the set of all $l$-bit prime factors, under the restriction that $N = pq$ is a $2l$-bit integer, so as to simulate how the modulus $N$ is typically selected in RSA. To this end, we use the [<code>sample_l_bit_prime(l)</code>](../docs/math/primes/sample_l_bit_prime.md) convenience function provided by [Quaspy](https://github.com/ekera/quaspy)."
   ]
  },
  {
   "cell_type": "code",
   "execution_count": 1,
   "metadata": {},
   "outputs": [],
   "source": [
    "!pip3 install -q quaspy # Make sure that quaspy is installed."
   ]
  },
  {
   "cell_type": "code",
   "execution_count": 2,
   "metadata": {},
   "outputs": [
    {
     "name": "stdout",
     "output_type": "stream",
     "text": [
      "Sampled p = 114048533234126441812980005049651233053294867169283857236888887278168563271677898984999378320672379491025683444245614088265428688230539658601640616678044793052262419517400705367869608057399277237146015950013819489793222781535813238701423397297991775186995938847486109444242061076407024032808367935436200018369\n",
      "Sampled q = 167980674112484011291966602366746447748322627380129498005723593836764995154714026157245918928756225435659944168039901282589194040925039094377602521640249254823306340950954690246224272188389189864597408169168275011929302286122789957707201740156084975927191050810099737891662809121304033694308720801433580524913\n",
      "\n",
      "Computed N = 19157949494208595997105870206324782513017455843330841668797281144608949873266698593954722168951398763240593603092785730865395665447953158497725736036375863130703731530016395393901682342443137111832523802069061607427017185509367293825715870843510662138022138656610657165238040314584253712601822863976921041978878803279805299234279497051961349487896385827039908976051327402929518583778016730573265447460942682847352337608219062368548784466548847606841758127084128753075296895958292894163319598655917698057913588479633313451992649608969435533829778147324228682664425877458781311432575045272433182138358091155491262126897\n"
     ]
    }
   ],
   "source": [
    "from quaspy.math.primes import sample_l_bit_prime;\n",
    "\n",
    "l = 1024;\n",
    "\n",
    "while True:\n",
    "  p = sample_l_bit_prime(l);\n",
    "\n",
    "  while True:\n",
    "    q = sample_l_bit_prime(l);\n",
    "    if p != q:\n",
    "      break;\n",
    "\n",
    "  N = p * q;\n",
    "\n",
    "  if (2 ** (2 * l - 1)) <= N < (2 ** (2 * l)):\n",
    "    break;\n",
    "\n",
    "print(\"Sampled p =\", p);\n",
    "print(\"Sampled q =\", q);\n",
    "\n",
    "print(\"\\nComputed N =\", N);"
   ]
  },
  {
   "cell_type": "markdown",
   "metadata": {
    "tags": [
     "sect:1"
    ]
   },
   "source": [
    "## 1. Simulating order finding in $\\mathbb Z_N^*$ exactly to sample $r$\n",
    "The first step in the classical pre-processing in Ekerå–Håstad's factoring algorithm [[EH17]](https://doi.org/10.1007/978-3-319-59879-6_20) is to select $g$ uniformly at random from $\\mathbb Z_N^*$.\n",
    "\n",
    "[Quaspy](https://github.com/ekera/quaspy) provides a function [<code>sample_r_given_N(N, factors)</code>](../docs/factoring/sampling/sample_r_given_N.md) for exactly sampling an element $g$ uniformly at random from $\\mathbb Z_N^*$ and returning its order without explicitly computing and returning $g$.\n",
    "This function requires the factorization of $N$ to be known, as is the case here given that we select the factors of $N$.\n",
    "For further details, see [[E24t]](https://kth.diva-portal.org/smash/get/diva2:1902626/FULLTEXT01.pdf) (see Sect. 5.2.3).\n",
    "\n",
    "Below, we use the [<code>sample_r_given_N(N, factors)</code>](../docs/factoring/sampling/sample_r_given_N.md) function to simulate the initial classical pre-processing step of Ekerå–Håstad's algorithm.\n",
    "We then setup a simulated generator $g$ for a cyclic group of order $r$ by using the [SimulatedCyclicGroupElement](../docs/math/groups/SimulatedCyclicGroupElement.md) class provided by [Quaspy](https://github.com/ekera/quaspy)."
   ]
  },
  {
   "cell_type": "code",
   "execution_count": 3,
   "metadata": {},
   "outputs": [
    {
     "name": "stdout",
     "output_type": "stream",
     "text": [
      "Sampled r = 21381640060500665175341372998130337626135553396574600076782679848893917269270868966467323849276114691116733932023198360340843376616019150109068901826312347244088986082607584144979556185762429812313084600523506258289081680255990283287629320137846721136185422607824394157631741422527068875671677303545670805779683899634440500871846596478286776570418268228225999576795440760953777930079938398918549274789636247679315524549032976559926519796197844702971556907104726233481839436930733815345117989297019230977868487009432164006997906854141553948014679698515794566462320187278119937607890820395895228137545761627925760696\n"
     ]
    }
   ],
   "source": [
    "from quaspy.factoring.sampling import sample_r_given_N;\n",
    "\n",
    "from quaspy.math.groups import SimulatedCyclicGroupElement;\n",
    "\n",
    "# Sample r.\n",
    "r = sample_r_given_N(N, factors = [[p, 1], [q, 1]]);\n",
    "\n",
    "print(\"Sampled r =\", r);\n",
    "\n",
    "# Setup a simulated cyclic group element of order r.\n",
    "g = SimulatedCyclicGroupElement(r);"
   ]
  },
  {
   "cell_type": "markdown",
   "metadata": {},
   "source": [
    "Note that an advantage of using the above method to sample $r$ is that the method is exact. A disadvantage is that it does not explicitly compute and return $g$, making it necessary to simulate $g$. In turn, this may lead to the classical pre- and post-processing appearing to be faster than it actually is in practice in what follows below, since arithmetic with simulated group elements is typically faster than arithmetic with elements of the group $\\mathbb Z_N^*$.\n",
    "\n",
    "In Sect. 2, we therefore repeat all of what follows in this section with a different heuristic sampling method that explicitly computes and returns both $g$ and $r$, where $g$ is an element of $\\mathbb Z_N^*$."
   ]
  },
  {
   "cell_type": "markdown",
   "metadata": {},
   "source": [
    "### Pre-computing $x$ classically given $g$\n",
    "The idea in Ekerå–Håstad's algorithm [[EH17]](https://doi.org/10.1007/978-3-319-59879-6_20), improved as in [[E20]](https://doi.org/10.1007/s10623-020-00783-2) or [[E23p]](https://doi.org/10.48550/arXiv.2309.01754), is to use $g$ to classically pre-compute\n",
    "\n",
    "$$x = g^{(N - 1) / 2 - 2^{l - 1}} = g^{((p - 1) / 2) + ((q - 1) / 2) - 2^{l - 1}}$$\n",
    "\n",
    "by using that $N$ is known, and to then compute the discrete logarithm $\\log_g x \\in [0, r) \\cap \\mathbb Z$ quantumly.\n",
    "Provided that the order $r$ of $g$ is greater than $d = ((p - 1) / 2) + ((q - 1) / 2) - 2^{l - 1}$ — which is the case with overwhelming probability for randomly selected RSA integers — it then holds that $\\log_g x = d$, in which case we can trivially solve for $p$ and $q$ given $d$ since we also know that $N = pq$ which yields a quadratic equation, the roots of which are $p$ and $q$.\n",
    "\n",
    "In what follows below, $x$ is pre-computed given $N$. Furthermore, $d$ is computed given $p$ and $q$ since $d$ is needed by the simulator for the quantum part of Ekerå–Håstad's algorithm."
   ]
  },
  {
   "cell_type": "code",
   "execution_count": 4,
   "metadata": {},
   "outputs": [],
   "source": [
    "# Compute r.\n",
    "x = g ** ((N - 1) // 2 - 2 ** (l - 1));\n",
    "\n",
    "# Compute d.\n",
    "d = ((p - 1) // 2) + ((q - 1) // 2) - 2 ** (l - 1);\n",
    "\n",
    "# Sanity check that x = g^d.\n",
    "if x != g ** d:\n",
    "  raise Exception(\"Error: Unexpected result.\");"
   ]
  },
  {
   "cell_type": "markdown",
   "metadata": {},
   "source": [
    "Note that [Quaspy](https://github.com/ekera/quaspy) provides convenience functions [<code>setup_x_given_g_N(g, N)</code>](../docs/factoring/rsa/setup_x_given_g_N.md) and [<code>setup_d_given_p_q(p, q)</code>](../docs/factoring/rsa/setup_d_given_p_q.md) for computing $x$ and $d$, respectively, but above we perform the computation explicitly to facilitate reader comprehension."
   ]
  },
  {
   "cell_type": "markdown",
   "metadata": {},
   "source": [
    "### 1.1. Solving for $d$ and the factors $p$ and $q$ of $N$ in a single run\n",
    "To start off, let us first consider the setting where our goal is to solve for the discrete logarithm $d$, and hence for the factors $p$ and $q$ of $N$, in a single run of the quantum part of Ekerå-Håstad's algorithm [[EH17]](https://doi.org/10.1007/978-3-319-59879-6_20)."
   ]
  },
  {
   "cell_type": "markdown",
   "metadata": {
    "tags": [
     "sect:1.1.1"
    ]
   },
   "source": [
    "#### 1.1.1. Sampling a frequency pair $(j, k)$\n",
    "[Quaspy](https://github.com/ekera/quaspy) provides a function [<code>sample_j_k_given_d_r_tau(d, r, m, ell, tau, ..)</code>](../docs/logarithmfinding/short/sampling/sample_j_k_given_d_r_tau.md) for simulating the quantum part of Ekerå–Håstad's algorithm exactly (up to arbitrary precision) for a given logarithm $d$, order $r$ (that need not be specified), and parameters $m$, $\\ell$ and $\\tau$, where $m$ is an upper bound on the bit length of $d$, and where $\\tau$ specifies the search interval when sampling and when solving in the classical post-processing from [[E23p]](https://doi.org/10.48550/arXiv.2309.01754).\n",
    "For further details, see [[E23p]](https://doi.org/10.48550/arXiv.2309.01754).\n",
    "\n",
    "Below, we use said function to simulate running the algorithm for $d$ and $r$ with control registers of length $m + \\ell$ qubits and $\\ell$ qubits respectively.\n",
    "More specifically, for $g$ the generator of unknown order $r \\ge 2^{m+\\ell} + (2^\\ell - 1)d$ and $x = g^d$, we simulate inducing the state\n",
    "\n",
    "$$\\frac{1}{2^{m + 2 \\ell}}\n",
    "\\sum_{a, \\, j \\, = \\, 0}^{2^{m+\\ell} - 1}\n",
    "\\sum_{b, \\, k \\, = \\, 0}^{2^{\\ell} - 1}\n",
    "\\mathrm{exp}\n",
    "\\left(\n",
    "  \\frac{2 \\pi \\mathrm{i}}{2^{m + \\ell}} (aj + 2^m bk)\n",
    "\\right)\n",
    "|\\, j, k, g^a x^{-b} \\,\\rangle$$\n",
    "\n",
    "and reading out the first two control registers. This yields a frequency pair $(j, k)$ sampled from the probability distribution induced by the quantum part of Ekerå–Håstad's algorithm:"
   ]
  },
  {
   "cell_type": "code",
   "execution_count": null,
   "metadata": {},
   "outputs": [
    {
     "name": "stdout",
     "output_type": "stream",
     "text": [
      "Sampled j = 3390665905030106285119426660184436149295571295362562419050307938779407036045450512115753886225728885642837786397686281859767823267759791957712577879722474253511143419053343623306810395236913433177671904242969391139620253884924158990052330571261298392687756018722428060652845078570211240886377705786631632964987146042280049391190495695185973961207003142967848310196231317831511504254229802212124144137758147563942062591939212548404785721921574619551811006185023438715846740051342659727197632329847392324386206183683146575452684008851779997660377480365272882618386645292343720640375227269019301680330190423192\n",
      "Sampled k = 72023202281553476421943162050704947008407149007360562261135408002792606166675071897935869277764665018032907997397109672058115272575238462650160299004326257295322533876130307813426527386853741966502038281943374127312927627512120790710361389285953669810963695290732236473080365626389787781481294132094\n"
     ]
    }
   ],
   "source": [
    "from quaspy.logarithmfinding.short.sampling import sample_j_k_given_d_r_tau;\n",
    "\n",
    "# Simulate running the quantum part of the algorithm for g and x.\n",
    "m = l - 1;\n",
    "Delta = 30;\n",
    "ell = m - Delta;\n",
    "tau = 20;\n",
    "\n",
    "[j, k] = sample_j_k_given_d_r_tau(d, r, m, ell, tau);\n",
    "\n",
    "print(\"Sampled j =\", j);\n",
    "print(\"Sampled k =\", k);"
   ]
  },
  {
   "cell_type": "markdown",
   "metadata": {},
   "source": [
    "Above, we first use that $m = l - 1$ is an upper bound on the bit length of $d = (p - 1) / 2) + ((q - 1) / 2) - 2^{l - 1}$.\n",
    "We then let $\\ell = m - \\Delta$ for $\\Delta$ a non-negative constant.\n",
    "\n",
    "Provided that $\\Delta$ is selected sufficiently large, we then have that $r \\ge 2^{m+\\ell} + (2^\\ell - 1)d$ as required by the analysis in [[EH17]](https://doi.org/10.1007/978-3-319-59879-6_20), [[E20]](https://doi.org/10.1007/s10623-020-00783-2) and [[E23p]](https://doi.org/10.48550/arXiv.2309.01754).\n",
    "Furthermore, we then have that $\\log_g x = d$ enabling us to solve $N = pq$ and $d = ((p - 1) / 2) + ((q - 1) / 2) - 2^{l - 1}$ for $p$ and $q$ by solving a quadratic equation as described above.\n",
    "\n",
    "Meanwhile, recall that $\\sim \\ell$ bits of information on $d$ is computed in each run of the quantum part of Ekerå–Håstad's algorithm. Hence, provided that $\\Delta$ is not selected too large, we can efficiently find $d$ in a single run.\n",
    " \n",
    "Above, we select $\\Delta = 30$ to strike a good compromise:\n",
    "As is shown in [[E23p]](https://doi.org/10.48550/arXiv.2309.01754), the success probability is then at least $1 - 10^{-6}$ provided that we accept to perform at most $2^{28.6}$ group operations in the classical post-processing (which is clearly feasible).\n",
    "For further details, see [[E23p]](https://doi.org/10.48550/arXiv.2309.01754) (in particular, see Tab. 1, and also Tab. 4).\n",
    "\n",
    "Note also that the [<code>sample_j_k_given_d_r_tau(d, r, m, ell, tau, ..)</code>](../docs/logarithmfinding/short/sampling/sample_j_k_given_d_r_tau.md) function checks that $r \\ge 2^{m+\\ell} + (2^\\ell - 1)d$ when $r$ is passed to the function. This is the only reason for why $r$ is passed to said function."
   ]
  },
  {
   "cell_type": "markdown",
   "metadata": {},
   "source": [
    "#### 1.1.2. Solving the frequency pair $(j, k)$ and $g$ and $x$ for $p$ and $q$\n",
    "We now proceed to solve the frequency pair $(j, k)$ and $g$ and $x$ for the factors $p$ and $q$ of $N$.\n",
    "\n",
    "To this end, we first use the [<code>solve_j_k_for_d(j, k, m, ell, g, x, tau, t, ..)</code>](../docs/logarithmfinding/short/postprocessing/solve_j_k_for_d.md) function provided by [Quaspy](https://github.com/ekera/quaspy) to solve $(j, k)$ for $d$ using the lattice-based post-processing from [[E23p]](https://doi.org/10.48550/arXiv.2309.01754). We then solve $d$ for the prime factors $p$ and $q$ of $N$ using the post-processing from [[E23p]](https://doi.org/10.48550/arXiv.2309.01754).\n",
    "\n",
    "As stated above, to solve $d = ((p - 1) / 2) + ((q - 1) / 2) - 2^{l - 1}$ and $N = pq$ for $p$ and $q$, we only need to solve a quadratic equation.\n",
    "[Quaspy](https://github.com/ekera/quaspy) provides a convenience function [<code>split_N_given_d(d, N)</code>](../docs/factoring/rsa/postprocessing/split_N_given_d.md) for this purpose, but below we solve explicitly using the quadratic formula to facilitate reader comprehension.\n",
    "\n",
    "The parameters $\\tau$ and $t$ control the search space when solving $(j, k)$ for $d$.\n",
    "Below, we gradually grow the search space, from $(\\tau, t) = (4, 17)$ up to $(\\tau, t) = (20, 19)$ for which the success probability is at least $1 - 10^{-6}$ and for which at most $2^{28.6}$ group operations have to be performed in the classical post-processing, as stated in the previous section.\n",
    "For further details, see [[E23p]](https://doi.org/10.48550/arXiv.2309.01754) (in particular, see Tab. 1).\n",
    "\n",
    "Note that $\\tau = 20$ for the last combination which explains why we specified $\\tau = 20$ when sampling in the previous section.\n"
   ]
  },
  {
   "cell_type": "code",
   "execution_count": 6,
   "metadata": {},
   "outputs": [
    {
     "name": "stdout",
     "output_type": "stream",
     "text": [
      "p = 114048533234126441812980005049651233053294867169283857236888887278168563271677898984999378320672379491025683444245614088265428688230539658601640616678044793052262419517400705367869608057399277237146015950013819489793222781535813238701423397297991775186995938847486109444242061076407024032808367935436200018369\n",
      "q = 167980674112484011291966602366746447748322627380129498005723593836764995154714026157245918928756225435659944168039901282589194040925039094377602521640249254823306340950954690246224272188389189864597408169168275011929302286122789957707201740156084975927191050810099737891662809121304033694308720801433580524913\n",
      "\n",
      "[ OK ] Successfully recovered p and q.\n"
     ]
    }
   ],
   "source": [
    "from quaspy.logarithmfinding.short.postprocessing import solve_j_k_for_d;\n",
    "\n",
    "from gmpy2 import isqrt as sqrt;\n",
    "\n",
    "# Recover d from the pair (j, k) output by the quantum algorithm.\n",
    "for [tau, t] in [[4, 17], [7, 17], [14, 17], [17, 17], [20, 19]]:\n",
    "  recovered_d = solve_j_k_for_d(j, k, m, ell, g, x, tau = tau, t = t);\n",
    "  if recovered_d != None:\n",
    "    break;\n",
    "\n",
    "if None == recovered_d:\n",
    "  print(\"[FAIL] Failed to recover d.\");\n",
    "else:\n",
    "  # Form d' = p + q given d.\n",
    "  p_plus_q = 2 * recovered_d + 2 ** l + 2;\n",
    "\n",
    "  # Solve d' = p + q and N = pq for p and q using the quadratic formula:\n",
    "  candidate_p = int((p_plus_q - sqrt((p_plus_q ** 2) - 4 * N)) // 2);\n",
    "  candidate_q = int((p_plus_q + sqrt((p_plus_q ** 2) - 4 * N)) // 2);\n",
    "\n",
    "  if (1 < candidate_p < N) and \\\n",
    "     (1 < candidate_q < N) and \\\n",
    "     (candidate_p * candidate_q == N):\n",
    "    print(\"p =\", candidate_p);\n",
    "    print(\"q =\", candidate_q);\n",
    "\n",
    "    print(\"\\n[ OK ] Successfully recovered p and q.\");\n",
    "  else:\n",
    "    print(\"[FAIL] Failed to recover p and q.\");"
   ]
  },
  {
   "cell_type": "markdown",
   "metadata": {},
   "source": [
    "### 1.2. Making tradeoffs and solving for the factors $p$ and $q$ of $N$ in multiple runs\n",
    "Let us now consider the case where we make tradeoffs by picking $\\ell \\approx m/s$ for $s$ some tradeoff factor.\n",
    "\n",
    "As explained in [[E20]](https://doi.org/10.1007/s10623-020-00783-2), each run of the quantum part of Ekerå–Håstad's algorithm yields $\\sim \\ell$ bits of information on the logarithm $d$.\n",
    "Hence, we expect to have to perform at least $s$ runs to solve efficiently and with high probability of success in the classical post-processing.\n",
    "\n",
    "According to the estimates in [[E20]](https://doi.org/10.1007/s10623-020-00783-2) (see e.g. Tab. 1) which were computed with the [Qunundrum](https://github.com/ekera/qunundrum) suite of MPI programs, when $m = 1023$, $s = 8$ and $\\ell = \\lceil m / s \\rceil$, we need to make no more than $n = 9$ runs to solve efficiently in the classical post-processing with $\\ge 99\\%$ success probability without enumerating the lattice.\n",
    "In the below example, we use this specific parameterization."
   ]
  },
  {
   "cell_type": "markdown",
   "metadata": {},
   "source": [
    "#### 1.2.1. Sampling $n$ frequency pairs $((j_1, k_1), \\, \\ldots, \\, (j_n, k_n))$\n",
    "To start off, we proceed in analogy with Sect. 1.1.1 above to sample $n$ frequency pairs $((j_1, k_1), \\, \\ldots, \\, (j_n, k_n))$ from the distribution induced by the quantum part of Ekerå–Håstad's algorithm.\n",
    "To this end, we use the [<code>sample_j_k_given_d_r(d, r, m, ell, ..)</code>](../docs/logarithmfinding/short/sampling/sample_j_k_given_d_r.md) function provided by [Quaspy](https://github.com/ekera/quaspy).\n",
    "\n",
    "Note that the [<code>sample_j_k_given_d_r(d, r, m, ell, ..)</code>](../docs/logarithmfinding/short/sampling/sample_j_k_given_d_r.md) function is equivalent to the [<code>sample_j_k_given_d_r_tau(d, r, m, ell, tau, ..)</code>](../docs/logarithmfinding/short/sampling/sample_j_k_given_d_r_tau.md) function used above in Sect. 1.1.1, expect that it selects the search interval in a more straightforward manner that is not specifically adapted to the post-processing from [[E23p]](https://doi.org/10.48550/arXiv.2309.01754).\n",
    "(And in what follows below, we will use the post-processing from [[E20]](https://doi.org/10.1007/s10623-020-00783-2), so it makes sense to call [<code>sample_j_k_given_d_r(d, r, m, ell, ..)</code>](../docs/logarithmfinding/short/sampling/sample_j_k_given_d_r.md) in this step to sample the frequency pairs.)"
   ]
  },
  {
   "cell_type": "code",
   "execution_count": 7,
   "metadata": {},
   "outputs": [
    {
     "name": "stdout",
     "output_type": "stream",
     "text": [
      "Sampled pairs [j, k] = [[27055620364126457153689884333934272187776914664676209999375503375168879110858317141652515170511059435796599366116953987511433452663466964870346947540164364726249869747598061765945504536542659618267355801683170556928130376636351126605366334529963493933631015137505954740933529483068249555409627718628777319898756699281771419037743859730734223922083, 37468413344491102773796999250795435032], [18930851942850079638120904850161385747519851735413385136594308909053884648910536650175259744733680347090670959274663453881170038826396259848800589745370691477938108164568633812622920020866909857964799820310985087177280269774074007988860450248252210491149808463466227859047315916468874856132721505903470181344589002205279467193088003950015917867119, 79958613133206584029195104391492283542], [27022197368892925214502887482219419211152410836360049275417047349166395737017723061742115418923929588037278738866672333508690379847008359614893186923836739130438472669319278766301028335810155853241964676473947803012605436640044473057014961695781945656706462270181170071643976000414915613178361377285266218684813353850602042363573492136001871768214, 307652883398621476901734939738115240716], [3491619874160802943359977731206951702714385373575390251899536123643404598194886320806802970553310269123588328656077636686981546710280644823064640046572688737607014893986696176606001000811436323106140390253972069004453911018039777267040446512291714388518609012781773597121495041771589357851826385195817943037286894664259167735543423373954639502378, 117254758856660001011552097319150080648], [9944590994069391058933090667294529608081120901096577831942316254060820145634896607610729185063568700439919430350314145693197119282709364065333572136252529204187169025711184757115189478798583417230453186192543175626389683043877211435077844935395052714981326445253658458244903221543097315275615054035812046253951382822834590058567224456110311530540, 197913100905622973401690070485998333578], [26155203523849077270090115336681135292752029707992063861486427631333240842367386307993992778709029071098804202068030744199363127412844683360224667752765452295907340838452493203411374787837943572212496750355897781124714785944320052785934625739821239414496166771219486836233482103997014056068508118353111139808918609403502714660022216897141495547245, 68442956551504037385684832751374410959], [24541774943553686153847397460414918020590635001459711852117345678011183324589427122633609036382607123513323079672447273809787669366807185561374329894918858691378672112186939419919123362238440676564488256525682681735061604481869755601232750960861089196774216754622152990636749634541847214052508149536981546066663532174842287391381587467858712593596, 282510411357222343119944330345190683547], [13912879783513575883876111571591370905914990292638569446814712318402112906249079188304931352311105187582139590226891549987544755304117767533888762196300539084956979011600768746504712692881411063767985673316296373888637777159585520410802721136264415996462109394390681984253374084616531496935399135470680640739782653318226693948575014505006312750318, 211592575089839902240262269716003424352], [28018533531426212966479846045723379985897251664135934809656432312572125523607258420513040530401470976745886323757484861285595424345330817344300830665158312624578859799055887894823396482539347095338412454421003218887411195544141554624271723604999618859087212542204567060667221990339747932102289038543883033072856325241732436072367176077040262057767, 22493789461249461248774723598859306589]]\n"
     ]
    }
   ],
   "source": [
    "from quaspy.logarithmfinding.short.sampling import sample_j_k_given_d_r;\n",
    "\n",
    "from math import ceil;\n",
    "\n",
    "s = 8;\n",
    "ell = ceil(m / s);\n",
    "n = 9;\n",
    "\n",
    "j_k_list = [sample_j_k_given_d_r(d, r, m, ell, timeout = 30) \\\n",
    "              for _ in range(n)];\n",
    "\n",
    "print(\"Sampled pairs [j, k] =\", j_k_list);"
   ]
  },
  {
   "cell_type": "markdown",
   "metadata": {},
   "source": [
    "#### 1.2.2. Solving the $n$ frequency pairs $((j_1, k_1), \\, \\ldots, \\, (j_n, k_n))$ and $g$ and $x$ for $p$ and $q$\n",
    "We now proceed to solve the $n$ frequency pairs $((j_1, k_1), \\, \\ldots, \\, (j_n, k_n))$ and $g$ and $x$ for the factors $p$ and $q$ of $N$.\n",
    "\n",
    "To this end, we first use the [<code>solve_multiple_j_k_for_d(j_k_list, m, l, g, x, ..)</code>](../docs/logarithmfinding/short/postprocessing/solve_multiple_j_k_for_d.md) function provided by [Quaspy](https://github.com/ekera/quaspy).\n",
    "It jointly solves $((j_1, k_1), \\, \\ldots, \\, (j_n, k_n))$ for $d$ by using the lattice-based post-processing from [[E20]](https://doi.org/10.1007/s10623-020-00783-2).\n",
    "We then solve $d$ and $N$ for the prime factors $p$ and $q$ of $N$ by using the [<code>split_N_given_d(d, N)</code>](../docs/factoring/rsa/postprocessing/split_N_given_d.md) convenience function provided by [Quaspy](https://github.com/ekera/quaspy)."
   ]
  },
  {
   "cell_type": "code",
   "execution_count": 8,
   "metadata": {},
   "outputs": [
    {
     "name": "stdout",
     "output_type": "stream",
     "text": [
      "p = 167980674112484011291966602366746447748322627380129498005723593836764995154714026157245918928756225435659944168039901282589194040925039094377602521640249254823306340950954690246224272188389189864597408169168275011929302286122789957707201740156084975927191050810099737891662809121304033694308720801433580524913\n",
      "q = 114048533234126441812980005049651233053294867169283857236888887278168563271677898984999378320672379491025683444245614088265428688230539658601640616678044793052262419517400705367869608057399277237146015950013819489793222781535813238701423397297991775186995938847486109444242061076407024032808367935436200018369\n",
      "\n",
      "[ OK ] Successfully recovered p and q.\n"
     ]
    }
   ],
   "source": [
    "from quaspy.logarithmfinding.short.postprocessing import solve_multiple_j_k_for_d;\n",
    "\n",
    "from quaspy.factoring.rsa.postprocessing import split_N_given_d;\n",
    "\n",
    "recovered_d = solve_multiple_j_k_for_d(j_k_list,\n",
    "                                       m,\n",
    "                                       ell,\n",
    "                                       g,\n",
    "                                       x,\n",
    "                                       enumerate = False,\n",
    "                                       timeout = 30);\n",
    "\n",
    "if None == recovered_d:\n",
    "  print(\"[FAIL] Failed to recover d).\");\n",
    "else:\n",
    "  result = split_N_given_d(d, N);\n",
    "\n",
    "  if None != result:\n",
    "    [recovered_p, recovered_q] = result;\n",
    "\n",
    "    print(\"p =\", recovered_p);\n",
    "    print(\"q =\", recovered_q);\n",
    "\n",
    "    print(\"\\n[ OK ] Successfully recovered p and q.\");\n",
    "  else:\n",
    "    print(\"[FAIL] Failed to recover p and q.\");"
   ]
  },
  {
   "cell_type": "markdown",
   "metadata": {},
   "source": [
    "## 2. Simulating order finding in $\\mathbb Z_N^*$ heuristically to sample $g$ and $r$\n",
    "In addition to the [<code>sample_r_given_N(N, factors)</code>](../docs/factoring/sampling/sample_r_given_N.md) function used in [Sect. 1](#) above, [Quaspy](https://github.com/ekera/quaspy) also provides a function [<code>sample_g_r_given_N(N, N_factors, ..)</code>](../docs/factoring/sampling/sample_g_r_given_N.md) for sampling an element $g$ uniformly at random from $\\mathbb Z_N^*$ and heuristically computing and returning its order $r$ alongside $g$.\n",
    "For further details, see [[E21b]](https://doi.org/10.1007/s11128-021-03069-1) (see App. A).\n",
    "\n",
    "Note that the [<code>sample_g_r_given_N(N, N_factors, ..)</code>](../docs/factoring/sampling/sample_g_r_given_N.md) function requires the factorization of $N = pq$ to be known, as is the case here given that we selected $p$ and $q$. (If the function is also fed the factorization of $p - 1$ and $q - 1$ then the function can be made exact, as explained in [[E21b]](https://doi.org/10.1007/s11128-021-03069-1) and in the [documentation](../docs/factoring/sampling/sample_r_given_N.md).)\n",
    "\n",
    "Below, we use said function to simulate the initial classical pre-processing step of Ekerå–Håstad's algorithm where an element $g$ is selected uniformly at random from $\\mathbb Z_N^*$. This yields $g$ and $r$:"
   ]
  },
  {
   "cell_type": "code",
   "execution_count": 9,
   "metadata": {},
   "outputs": [
    {
     "name": "stdout",
     "output_type": "stream",
     "text": [
      "Sampled g = 7875937477811175823891428746497154861986189390696914680855534708523488003366944566470768458128727697771834561968543891479889025389123382476264391679386998841635220299682945438715398873560450658337417203741080366892485005240526698554234555401426617622663575864817318146622803141457525503590986782740702428935769477571356793435883544184286851459325983357017134787139928013460688125546354446030747074429726554900790785987485011377743914078970694422455936342616638084486875312113938146629753538237083397666302147244159543356716134544004792645662715067797597323439961477172987007909551180460911258698194498422409906864631\n",
      "Sampled r = 46052763207232201916119880303665342579368884238776061703839618136079206426121871620083466752287016257789888468973042622272585734249887400234917634702826594064191662331770181235340582553949848826520489908819859633238022080551363687081047766450746783985630141001467925877976058448519840655292843423021444812448549937674179540339361900107079211074747039260794460626944026254361983234018328859209183053393062687309294975951763334129072504176426127052554122569148641118268577248773888217666407976947426035952332125866469276322764722455074116195723925504495557527764997326445181404078534074698851260603944717352455484576\n"
     ]
    }
   ],
   "source": [
    "from quaspy.factoring.sampling import sample_g_r_given_N;\n",
    "\n",
    "from quaspy.math.groups import IntegerModRingMulSubgroupElement;\n",
    "\n",
    "[g, r] = sample_g_r_given_N(N, [[p, 1], [q, 1]]);\n",
    "\n",
    "print(\"Sampled g =\", g);\n",
    "print(\"Sampled r =\", r);\n",
    "\n",
    "# Setup the group element g.\n",
    "g = IntegerModRingMulSubgroupElement(g, N);"
   ]
  },
  {
   "cell_type": "markdown",
   "metadata": {},
   "source": [
    "### 2.1. Solving for the factors $p$ and $q$ of $N$ in a single run\n",
    "Let us first again first consider the setting where our goal is to solve for the discrete logarithm $d$, and hence the factors $p$ and $q$, in a single run of the quantum part of Ekerå-Håstad's algorithm [[EH17]](https://doi.org/10.1007/978-3-319-59879-6_20)."
   ]
  },
  {
   "cell_type": "markdown",
   "metadata": {},
   "source": [
    "#### 2.1.1. Sampling a frequency pair $(j, k)$\n",
    "To start off, in analogy with Sect. 1.1.1, we use the [<code>sample_j_k_given_d_r_tau(d, r, m, ell, tau, ..)</code>](../docs/logarithmfinding/short/sampling/sample_j_k_given_d_r_tau.md) function provided by [Quaspy](https://github.com/ekera/quaspy) to simulate the quantum part of Ekerå–Håstad's factoring algorithm exactly (up to arbitrary precision) for a given logarithm $d$, order $r$, and parameters $m$, $\\ell$ and $\\tau$, where $m$ is an upper bound on the bit length of $d$, and where $\\tau$ is related to the sampling as explained in [[E23p]](https://doi.org/10.48550/arXiv.2309.01754). This yields a frequency pair $(j, k)$ sampled from the probability distribution induced by the algorithm.\n",
    "\n",
    "To first setup $x$ and $d$, we use the [<code>setup_x_given_g_N(g, N)</code>](../docs/factoring/rsa/setup_x_given_g_N.md) and [<code>setup_d_given_p_q(p, q)</code>](../docs/factoring/rsa/setup_d_given_p_q.md) convenience functions provided by [Quaspy](https://github.com/ekera/quaspy)."
   ]
  },
  {
   "cell_type": "code",
   "execution_count": null,
   "metadata": {},
   "outputs": [
    {
     "name": "stdout",
     "output_type": "stream",
     "text": [
      "Computed x = 12603574073955776020385599073173485249876757028444260800780124566966487921565105689557961945551511121901149050397946320245826340572300966194868129305245948174353619866577297471118021088335955427429966814214156477913821628207185653056127118321255523121199902012551820268347761448566349920309895399584524778453217101545035002337121537677046117013859627271772224044049151774422978921194448809732006351019534254403475978763701391707735700995079573425778713087630746077133501329332349061475111766284683028040747794788536543459150777166969565813420299486488880386548205524286702891219383078723853576219606314266563495864134 (mod 19157949494208595997105870206324782513017455843330841668797281144608949873266698593954722168951398763240593603092785730865395665447953158497725736036375863130703731530016395393901682342443137111832523802069061607427017185509367293825715870843510662138022138656610657165238040314584253712601822863976921041978878803279805299234279497051961349487896385827039908976051327402929518583778016730573265447460942682847352337608219062368548784466548847606841758127084128753075296895958292894163319598655917698057913588479633313451992649608969435533829778147324228682664425877458781311432575045272433182138358091155491262126897)\n",
      "\n",
      "Sampled j = 6726707996666491063272549425710263872684112866965898965393089631068632514345915402229361606496037747867798004264660488391687125015016190519224503870302744990333792641613876449492597972245334368636373427831171269125695774087311390235129541182651800820169402218388008025937901467638660548491894499906054051985437474344954219156170692856094577490823065345781041962299460655308798096766401028425461670572599751593921183098689441652178767599844373022378720545548034053313078190626645960135091391466932980582393288393267093956084239482394647701522622804809835928380445551257410741177392928584058558407174907698151\n",
      "Sampled k = 35386069160083305701627613626124027160913901241091579381497842962604546242347244640661169440361100503510447781432235461025654850460627161342654142461565913276533601103734745970030593814695258474582659331401477073663322981477552118183146326584776881355702211930863491755480032575561302368349826102528\n"
     ]
    }
   ],
   "source": [
    "from quaspy.logarithmfinding.short.sampling import sample_j_k_given_d_r_tau;\n",
    "\n",
    "from quaspy.factoring.rsa import setup_d_given_p_q;\n",
    "from quaspy.factoring.rsa import setup_x_given_g_N;\n",
    "\n",
    "# Compute x.\n",
    "x = setup_x_given_g_N(g, N);\n",
    "\n",
    "print(\"Computed x =\", x);\n",
    "\n",
    "# Compute d.\n",
    "d = setup_d_given_p_q(p, q);\n",
    "\n",
    "# Sanity check that x = g^d.\n",
    "if x != g ** d:\n",
    "  raise Exception(\"Error: Unexpected result.\");\n",
    "\n",
    "m = l - 1;\n",
    "Delta = 30;\n",
    "ell = m - Delta;\n",
    "tau = 20;\n",
    "\n",
    "[j, k] = sample_j_k_given_d_r_tau(d, r, m, ell, tau);\n",
    "\n",
    "print(\"\\nSampled j =\", j);\n",
    "print(\"Sampled k =\", k);"
   ]
  },
  {
   "cell_type": "markdown",
   "metadata": {},
   "source": [
    "#### 2.1.2. Solving the frequency pair $(j, k)$ and $g$ and $x$ for $p$ and $q$\n",
    "We may then proceed to solve the frequency pair $(j, k)$ and $g$ and $x$ for the factors $p$ and $q$ of $N$.\n",
    "\n",
    "To this end, in analogy with Sect. 1.1.2, we first use the [<code>solve_j_k_for_d(j, k, m, ell, g, x, tau, t ..)</code>](../docs/logarithmfinding/short/postprocessing/solve_j_k_for_d.md) function provided by [Quaspy](https://github.com/ekera/quaspy) to solve $(j, k)$ for $d$ using the lattice-based post-processing from [[E23p]](https://doi.org/10.48550/arXiv.2309.01754).\n",
    "We then solve $d$ and $N$ for the prime factors $p$ and $q$ of $N$ by using the [<code>split_N_given_d(d, N)</code>](../docs/factoring/rsa/postprocessing/split_N_given_d.md) convenience function provided by [Quaspy](https://github.com/ekera/quaspy)."
   ]
  },
  {
   "cell_type": "code",
   "execution_count": 11,
   "metadata": {},
   "outputs": [
    {
     "name": "stdout",
     "output_type": "stream",
     "text": [
      "p = 167980674112484011291966602366746447748322627380129498005723593836764995154714026157245918928756225435659944168039901282589194040925039094377602521640249254823306340950954690246224272188389189864597408169168275011929302286122789957707201740156084975927191050810099737891662809121304033694308720801433580524913\n",
      "q = 114048533234126441812980005049651233053294867169283857236888887278168563271677898984999378320672379491025683444245614088265428688230539658601640616678044793052262419517400705367869608057399277237146015950013819489793222781535813238701423397297991775186995938847486109444242061076407024032808367935436200018369\n",
      "\n",
      "[ OK ] Successfully recovered p and q.\n"
     ]
    }
   ],
   "source": [
    "from quaspy.logarithmfinding.short.postprocessing import solve_j_k_for_d;\n",
    "\n",
    "from quaspy.factoring.rsa.postprocessing import split_N_given_d;\n",
    "\n",
    "# Recover d.\n",
    "for [tau, t] in [[4, 17], [7, 17], [14, 17], [17, 17], [20, 19]]:\n",
    "  recovered_d = solve_j_k_for_d(j, k, m, ell, g, x, tau = tau, t = t);\n",
    "  if recovered_d != None:\n",
    "    break;\n",
    "\n",
    "if None == recovered_d:\n",
    "  print(\"[FAIL] Failed to recover d.\");\n",
    "else:\n",
    "  result = split_N_given_d(d, N);\n",
    "\n",
    "  if None != result:\n",
    "    [recovered_p, recovered_q] = result;\n",
    "\n",
    "    print(\"p =\", recovered_p);\n",
    "    print(\"q =\", recovered_q);\n",
    "\n",
    "    print(\"\\n[ OK ] Successfully recovered p and q.\");\n",
    "  else:\n",
    "    print(\"[FAIL] Failed to recover p and q.\");"
   ]
  },
  {
   "cell_type": "markdown",
   "metadata": {},
   "source": [
    "### 2.2. Making tradeoffs and solving for the factors $p$ and $q$ of $N$ in multiple runs\n",
    "Let us now consider the case where we make tradeoffs by picking $\\ell \\approx m/s$ for $s$ some tradeoff factor.\n",
    "As explained in [[E20]](https://doi.org/10.1007/s10623-020-00783-2), each run of the quantum algorithm then yields $\\sim \\ell$ bits of information on the logarithm $d$."
   ]
  },
  {
   "cell_type": "markdown",
   "metadata": {},
   "source": [
    "#### 2.2.1. Sampling $n$ frequency pairs $((j_1, k_1), \\, \\ldots, \\, (j_n, k_n))$\n",
    "To start off, in analogy with Sect. 1.2.1, we proceed to sample $n$ frequency pairs $((j_1, k_1), \\, \\ldots, \\, (j_n, k_n))$ from the distribution induced by the quantum part of Ekerå–Håstad's algorithm.\n",
    "To this end, we use the [<code>sample_j_k_given_d_r(d, r, m, ell, ..)</code>](../docs/logarithmfinding/short/sampling/sample_j_k_given_d_r.md) function provided by [Quaspy](https://github.com/ekera/quaspy)."
   ]
  },
  {
   "cell_type": "code",
   "execution_count": 12,
   "metadata": {},
   "outputs": [
    {
     "name": "stdout",
     "output_type": "stream",
     "text": [
      "Sampled pairs [j, k] = [[29924180134257712155876132858563433751258519473771827780101748500151675908447499905065978717295398512823372515365657774391781724997597846009462580563469670728728698769888569725842732280316127743218064781445939079355522274650826015738387070938575271304421217076022697867942957857846269423196820325922325048678135604425507584362169803088872039062178, 111638671264799981438912610674328028673], [10522637235991480208880359420388869533590572022002639700088801432701505644841584578955056806549150818928442066590903647028090334259136166410773522608336491878036973880521055120739654317447351761647612383453890304818932466900833147284160630254294948095558778235469324081508290967813662504357853583314838232581404406910376530936726319567281105043415, 283595004726212002765315576397515511417], [22879551371711310397031118909250871550491944838635068354904296242478403208657304978944106511581575808568508725770008324457249785009328211897979740020706655705132480813923683437336977446750833193497048250356786029438707235672030441348379771225582041683070155710219673645168734577184224421510267340883805404966091491362498496034830231100873691194943, 283427351402224143470692992714649674758], [2564570525091988430890635069043176186001368513352443727253398109438438579323116717210822219350044162859895479665249889014550379483272772782744578088371295994575540313875662002298734525955141809139098878817197819900987149222521803706865453833530480408759714211071482896013969520105898039416601279632165628205221874021746624084323376327196778833532, 19648178450900150453365404498117195436], [23440388528584169723900881862268339011378460443680181320250963169345559418003270513804906894403108722376064961166839404142037451958813695939677789128153234328940809726608364782343779424498432686008068392361054110123036665618582534640878678243251162065797703702679080583455959014909803776335728564433244955904593713854597625414177890431140358511090, 303943786666622649388604068628646440703], [4972874855107611174667672332661300474909028609288805504832279774258847835041502292288437830175246898108489293332816090130587903407665962558479671337723440919697282599770519953108911979830640487132827306240034559124922766916247463387477054461150047429483909397714163793733303273310330752113712404663672806650549438944352812158469737669717914815888, 109994015358054379173574348212298050257], [11618572168254147105722500092677208194208195650235374723710565234893300193724834271122830548307678348564356187170871225213966851901296938352981138340299343047999112141702352747845612832063995546062681374126692511990472537053615589503079511496550488815035673639822830895434741988575570768113817497922894594824862988989833840401833820771307811677648, 160403167794016771329760989688212981386], [16155891160046654079628136218641364680050662928312321653663372493848520399811161540798868237521484330166876389960792584066319162217261821676690704496940632565924137023262682551519471946839188041864447037020303223597881737404806359208835583785957400078337973787678009238021748442995700165980138860189217304747270010094441457995347597422295279712196, 113802605161928152409323354907485955735], [24230346667319362927903572451275342886098400302352916307463575388849710836015103623501456235582669909940652151756302026203898251376906097633168971323832793776017016415701032238084082038961134801344646964607301743892322762129976099639698141299727796657519567340733451427458792125287648130483040719979365943012984989775391885450105884814505149044869, 164107117353659704416636522789402168134]]\n"
     ]
    }
   ],
   "source": [
    "from quaspy.logarithmfinding.short.sampling import sample_j_k_given_d_r;\n",
    "\n",
    "from math import ceil;\n",
    "\n",
    "s = 8;\n",
    "ell = ceil(m / s);\n",
    "n = 9;\n",
    "\n",
    "j_k_list = [sample_j_k_given_d_r(d, r, m, ell, timeout = 30) \\\n",
    "              for _ in range(n)];\n",
    "\n",
    "print(\"Sampled pairs [j, k] =\", j_k_list);"
   ]
  },
  {
   "cell_type": "markdown",
   "metadata": {},
   "source": [
    "#### 2.2.2. Solving the $n$ frequency pairs $((j_1, k_1), \\, \\ldots, \\, (j_n, k_n))$ and $g$ and $x$ for $p$ and $q$\n",
    "We now proceed to solve the $n$ frequency pairs $((j_1, k_1), \\, \\ldots, \\, (j_n, k_n))$ and $g$ and $x$ for the factors $p$ and $q$ of $N$.\n",
    "\n",
    "To this end, in analogy with Sect. 1.2.2, we first use the [<code>solve_multiple_j_k_for_d(j_k_list, m, l, g, x, ..)</code>](../docs/logarithmfinding/short/postprocessing/solve_multiple_j_k_for_d.md) function provided by [Quaspy](https://github.com/ekera/quaspy).\n",
    "It jointly solves $((j_1, k_1), \\, \\ldots, \\, (j_n, k_n))$ for $d$ by using the lattice-based post-processing from [[E20]](https://doi.org/10.1007/s10623-020-00783-2).\n",
    "We then solve $d$ and $N$ for the prime factors $p$ and $q$ of $N$ by using the [<code>split_N_given_d(d, N)</code>](../docs/factoring/rsa/postprocessing/split_N_given_d.md) convenience function provided by [Quaspy](https://github.com/ekera/quaspy)."
   ]
  },
  {
   "cell_type": "code",
   "execution_count": 13,
   "metadata": {},
   "outputs": [
    {
     "name": "stdout",
     "output_type": "stream",
     "text": [
      "p = 167980674112484011291966602366746447748322627380129498005723593836764995154714026157245918928756225435659944168039901282589194040925039094377602521640249254823306340950954690246224272188389189864597408169168275011929302286122789957707201740156084975927191050810099737891662809121304033694308720801433580524913\n",
      "q = 114048533234126441812980005049651233053294867169283857236888887278168563271677898984999378320672379491025683444245614088265428688230539658601640616678044793052262419517400705367869608057399277237146015950013819489793222781535813238701423397297991775186995938847486109444242061076407024032808367935436200018369\n",
      "\n",
      "[ OK ] Successfully recovered p and q.\n"
     ]
    }
   ],
   "source": [
    "from quaspy.logarithmfinding.short.postprocessing import solve_multiple_j_k_for_d;\n",
    "\n",
    "from quaspy.factoring.rsa.postprocessing import split_N_given_d;\n",
    "\n",
    "recovered_d = solve_multiple_j_k_for_d(j_k_list,\n",
    "                                       m,\n",
    "                                       ell,\n",
    "                                       g,\n",
    "                                       x,\n",
    "                                       enumerate = False,\n",
    "                                       timeout = 30);\n",
    "\n",
    "if None == recovered_d:\n",
    "  print(\"[FAIL] Failed to recover d.\");\n",
    "else:\n",
    "  result = split_N_given_d(d, N);\n",
    "\n",
    "  if None != result:\n",
    "    [recovered_p, recovered_q] = result;\n",
    "\n",
    "    print(\"p =\", recovered_p);\n",
    "    print(\"q =\", recovered_q);\n",
    "\n",
    "    print(\"\\n[ OK ] Successfully recovered p and q.\");\n",
    "  else:\n",
    "    print(\"[FAIL] Failed to recover p and q.\");"
   ]
  }
 ],
 "metadata": {
  "kernelspec": {
   "display_name": "Python 3",
   "language": "python",
   "name": "python3"
  },
  "language_info": {
   "codemirror_mode": {
    "name": "ipython",
    "version": 3
   },
   "file_extension": ".py",
   "mimetype": "text/x-python",
   "name": "python",
   "nbconvert_exporter": "python",
   "pygments_lexer": "ipython3",
   "version": "3.13.4"
  }
 },
 "nbformat": 4,
 "nbformat_minor": 4
}
